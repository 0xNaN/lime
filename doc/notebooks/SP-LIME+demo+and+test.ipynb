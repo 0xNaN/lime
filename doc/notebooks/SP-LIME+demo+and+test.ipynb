{
 "cells": [
  {
   "cell_type": "markdown",
   "metadata": {},
   "source": [
    "# SP LIME\n",
    "\n",
    "## Regression explainer with boston housing prices dataset"
   ]
  },
  {
   "cell_type": "code",
   "execution_count": 28,
   "metadata": {
    "collapsed": false
   },
   "outputs": [
    {
     "name": "stdout",
     "output_type": "stream",
     "text": [
      "Boston House Prices dataset\n",
      "===========================\n",
      "\n",
      "Notes\n",
      "------\n",
      "Data Set Characteristics:  \n",
      "\n",
      "    :Number of Instances: 506 \n",
      "\n",
      "    :Number of Attributes: 13 numeric/categorical predictive\n",
      "    \n",
      "    :Median Value (attribute 14) is usually the target\n",
      "\n",
      "    :Attribute Information (in order):\n",
      "        - CRIM     per capita crime rate by town\n",
      "        - ZN       proportion of residential land zoned for lots over 25,000 sq.ft.\n",
      "        - INDUS    proportion of non-retail business acres per town\n",
      "        - CHAS     Charles River dummy variable (= 1 if tract bounds river; 0 otherwise)\n",
      "        - NOX      nitric oxides concentration (parts per 10 million)\n",
      "        - RM       average number of rooms per dwelling\n",
      "        - AGE      proportion of owner-occupied units built prior to 1940\n",
      "        - DIS      weighted distances to five Boston employment centres\n",
      "        - RAD      index of accessibility to radial highways\n",
      "        - TAX      full-value property-tax rate per $10,000\n",
      "        - PTRATIO  pupil-teacher ratio by town\n",
      "        - B        1000(Bk - 0.63)^2 where Bk is the proportion of blacks by town\n",
      "        - LSTAT    % lower status of the population\n",
      "        - MEDV     Median value of owner-occupied homes in $1000's\n",
      "\n",
      "    :Missing Attribute Values: None\n",
      "\n",
      "    :Creator: Harrison, D. and Rubinfeld, D.L.\n",
      "\n",
      "This is a copy of UCI ML housing dataset.\n",
      "http://archive.ics.uci.edu/ml/datasets/Housing\n",
      "\n",
      "\n",
      "This dataset was taken from the StatLib library which is maintained at Carnegie Mellon University.\n",
      "\n",
      "The Boston house-price data of Harrison, D. and Rubinfeld, D.L. 'Hedonic\n",
      "prices and the demand for clean air', J. Environ. Economics & Management,\n",
      "vol.5, 81-102, 1978.   Used in Belsley, Kuh & Welsch, 'Regression diagnostics\n",
      "...', Wiley, 1980.   N.B. Various transformations are used in the table on\n",
      "pages 244-261 of the latter.\n",
      "\n",
      "The Boston house-price data has been used in many machine learning papers that address regression\n",
      "problems.   \n",
      "     \n",
      "**References**\n",
      "\n",
      "   - Belsley, Kuh & Welsch, 'Regression diagnostics: Identifying Influential Data and Sources of Collinearity', Wiley, 1980. 244-261.\n",
      "   - Quinlan,R. (1993). Combining Instance-Based and Model-Based Learning. In Proceedings on the Tenth International Conference of Machine Learning, 236-243, University of Massachusetts, Amherst. Morgan Kaufmann.\n",
      "   - many more! (see http://archive.ics.uci.edu/ml/datasets/Housing)\n",
      "\n",
      "Random Forest R^2 Score: 0.882\n",
      "Linear Regression R^2 Score: 0.593\n"
     ]
    }
   ],
   "source": [
    "from sklearn.datasets import load_boston\n",
    "import sklearn.ensemble\n",
    "import sklearn.linear_model\n",
    "import sklearn.model_selection\n",
    "import numpy as np\n",
    "from sklearn.metrics import r2_score\n",
    "np.random.seed(1)\n",
    "\n",
    "#load example dataset\n",
    "boston = load_boston()\n",
    "\n",
    "#print a description of the variables\n",
    "print(boston.DESCR)\n",
    "\n",
    "#train a regressor\n",
    "rf = sklearn.ensemble.RandomForestRegressor(n_estimators=1000)\n",
    "train, test, labels_train, labels_test = sklearn.model_selection.train_test_split(boston.data, boston.target, train_size=0.80, test_size=0.20)\n",
    "rf.fit(train, labels_train);\n",
    "\n",
    "#train a linear regressor\n",
    "lr = sklearn.linear_model.LinearRegression()\n",
    "lr.fit(train,labels_train)\n",
    "\n",
    "#print the R^2 score of the random forest\n",
    "print(\"Random Forest R^2 Score: \" +str(round(r2_score(rf.predict(test),labels_test),3)))\n",
    "print(\"Linear Regression R^2 Score: \" +str(round(r2_score(lr.predict(test),labels_test),3)))"
   ]
  },
  {
   "cell_type": "code",
   "execution_count": 29,
   "metadata": {
    "collapsed": true
   },
   "outputs": [],
   "source": [
    "# import lime tools\n",
    "import lime\n",
    "import lime.lime_tabular\n",
    "\n",
    "# generate an \"explainer\" object\n",
    "categorical_features  = np.argwhere(np.array([len(set(boston.data[:,x])) for x in range(boston.data.shape[1])]) <= 10).flatten()\n",
    "explainer = lime.lime_tabular.LimeTabularExplainer(train, feature_names=boston.feature_names, class_names=['price'], categorical_features=categorical_features, verbose=False, mode='regression',discretize_continuous=False)"
   ]
  },
  {
   "cell_type": "code",
   "execution_count": 30,
   "metadata": {
    "collapsed": true
   },
   "outputs": [],
   "source": [
    "#generate an explanation\n",
    "i = 13\n",
    "exp = explainer.explain_instance(test[i], rf.predict, num_features=14)"
   ]
  },
  {
   "cell_type": "code",
   "execution_count": 31,
   "metadata": {
    "collapsed": false
   },
   "outputs": [
    {
     "data": {
      "image/png": "[encoded data removed]",
      "text/plain": [
       "<Figure size 432x288 with 1 Axes>"
      ]
     },
     "metadata": {},
     "output_type": "display_data"
    }
   ],
   "source": [
    "%matplotlib inline\n",
    "fig = exp.as_pyplot_figure();"
   ]
  },
  {
   "cell_type": "code",
   "execution_count": 32,
   "metadata": {
    "collapsed": false
   },
   "outputs": [
    {
     "name": "stdout",
     "output_type": "stream",
     "text": [
      "Input feature names: \n",
      "['CRIM' 'ZN' 'INDUS' 'CHAS' 'NOX' 'RM' 'AGE' 'DIS' 'RAD' 'TAX' 'PTRATIO'\n",
      " 'B' 'LSTAT']\n",
      "\n",
      "\n",
      "Input feature values: \n",
      "[4.3790e-02 8.0000e+01 3.3700e+00 0.0000e+00 3.9800e-01 5.7870e+00\n",
      " 3.1100e+01 6.6115e+00 4.0000e+00 3.3700e+02 1.6100e+01 3.9690e+02\n",
      " 1.0240e+01]\n",
      "\n",
      "\n",
      "Predicted: \n",
      "20.16219999999996\n"
     ]
    }
   ],
   "source": [
    "print(\"Input feature names: \")\n",
    "print(boston.feature_names)\n",
    "print('\\n')\n",
    "\n",
    "print(\"Input feature values: \")\n",
    "print(test[i])\n",
    "print('\\n')\n",
    "\n",
    "print(\"Predicted: \")\n",
    "print(rf.predict(test)[i])"
   ]
  },
  {
   "cell_type": "code",
   "execution_count": 33,
   "metadata": {
    "collapsed": true
   },
   "outputs": [],
   "source": [
    "class SubmodularPick(object):\n",
    "        \"\"\"Class for submodular pick\"\"\"\n",
    "        \n",
    "        def __init__(self, \n",
    "                     explainer,\n",
    "                     data,\n",
    "                     predict_fn,\n",
    "                     method='sample',\n",
    "                     sample_size=1000,\n",
    "                     num_exps_desired=5,\n",
    "                     num_features=10,\n",
    "                     **kwargs):\n",
    "            \n",
    "            \"\"\"Saves a representative sample of explanation objects using SP-LIME,\n",
    "            as well as saving all generated explanations \n",
    "\n",
    "            First, a collection of candidate explanations are generated\n",
    "            (see explain_instance). From these candidates, num_exps_desired are\n",
    "            chosen using submodular pick. (see marcotcr et al paper).\n",
    "\n",
    "\n",
    "            Args:\n",
    "                data: a numpy array where each row is a single input into predict_fn\n",
    "                predict_fn: prediction function. For classifiers, this should be a\n",
    "                        function that takes a numpy array and outputs prediction\n",
    "                        probabilities. For regressors, this takes a numpy array and\n",
    "                        returns the predictions. For ScikitClassifiers, this is\n",
    "                        `classifier.predict_proba()`. For ScikitRegressors, this\n",
    "                        is `regressor.predict()`. The prediction function needs to work\n",
    "                        on multiple feature vectors (the vectors randomly perturbed\n",
    "                        from the data_row).\n",
    "                method: The method to use to generate candidate explanations\n",
    "                        method == 'sample' will sample the data uniformly at\n",
    "                        random. The sample size is given by sample_size. Otherwise\n",
    "                        if method == 'full' then explanations will be generated for the\n",
    "                        entire data.\n",
    "                sample_size: The number of instances to explain if method == 'sample'\n",
    "                num_exps_desired: The number of explanation objects returned.\n",
    "                num_features: maximum number of features present in explanation\n",
    "\n",
    "\n",
    "            Sets value:\n",
    "                sp_explanations: A list of explanation objects that has a high coverage\n",
    "                explanations: All the candidate explanations saved for potential future use.\n",
    "                  \"\"\"\n",
    "        \n",
    "            # Parse args\n",
    "            if method == 'sample':\n",
    "                if sample_size > len(data):\n",
    "                    warnings.warn(\"\"\"Requested sample size larger than\n",
    "                                  size of input data. Using all data\"\"\")\n",
    "                    sample_size = len(data)\n",
    "                all_indices = np.arange(len(data))\n",
    "                np.random.shuffle(all_indices)\n",
    "                sample_indices = all_indices[:sample_size]\n",
    "            elif method == 'full':\n",
    "                sample_indices = np.arange(len(data))\n",
    "\n",
    "            # Generate Explanations\n",
    "            self.explanations = []\n",
    "            for i in sample_indices:\n",
    "               self.explanations.append(\n",
    "                    explainer.explain_instance(\n",
    "                        data[i], predict_fn, num_features=num_features,\n",
    "                    **kwargs))\n",
    "            # Error handling\n",
    "            try:\n",
    "                num_exps_desired = int(num_exps_desired)\n",
    "            except TypeError:\n",
    "                return(\"Requested number of explanations should be an integer\")\n",
    "            if num_exps_desired > len(self.explanations):\n",
    "                warnings.warn(\"\"\"Requested number of explanations larger than\n",
    "                               total number of explanations, returning all\n",
    "                               explanations instead.\"\"\")\n",
    "            num_exps_desired = min(num_exps_desired, len(self.explanations))\n",
    "\n",
    "            # Find all the explanation model features used. Defines the dimension d'\n",
    "            features_dict = {}\n",
    "            feature_iter = 0\n",
    "            for exp in self.explanations:\n",
    "                try:\n",
    "                    for this_label in exp.available_labels():\n",
    "                        for feature, _ in exp.as_list(label=this_label):\n",
    "                            if feature not in features_dict.keys():\n",
    "                                features_dict[feature] = (feature_iter)\n",
    "                                feature_iter += 1\n",
    "                except NotImplementedError:\n",
    "                    for feature, _ in exp.as_list():\n",
    "                        if feature not in features_dict.keys():\n",
    "                            features_dict[feature] = (feature_iter)\n",
    "                            feature_iter += 1\n",
    "            d_prime = len(features_dict.keys())\n",
    "\n",
    "            # Create the n x d' dimensional 'explanation matrix', W\n",
    "            W = np.zeros((len(self.explanations), d_prime))\n",
    "            for i, exp in enumerate(self.explanations):\n",
    "                for feature, value in exp.as_list():\n",
    "                    W[i, features_dict[feature]] = value\n",
    "\n",
    "            # Create the global importance vector, I_j described in the paper\n",
    "            importance = np.sum(abs(W), axis=0)**.5\n",
    "\n",
    "            # Now run the SP-LIME greedy algorithm\n",
    "            remaining_indices = set(range(len(self.explanations)))\n",
    "            V = []\n",
    "            for _ in range(num_exps_desired):\n",
    "                best = 0\n",
    "                best_ind = None\n",
    "                current = 0\n",
    "                for i in remaining_indices:\n",
    "                    current = np.dot(\n",
    "                            (np.sum(abs(W)[V + [i]], axis=0) > 0), importance\n",
    "                            )  # coverage function\n",
    "                    if current >= best:\n",
    "                        best = current\n",
    "                        best_ind = i\n",
    "                V.append(best_ind)\n",
    "                remaining_indices -= {best_ind}\n",
    "\n",
    "            self.sp_explanations = [self.explanations[i] for i in V]"
   ]
  },
  {
   "cell_type": "markdown",
   "metadata": {},
   "source": [
    "# SP-LIME pick step\n",
    "\n",
    "### Maximize the 'coverage' function:\n",
    "\n",
    "$c(V,W,I) = \\sum_{j=1}^{d^{\\prime}}{\\mathbb{1}_{[\\exists i \\in V : W_{ij}>0]}I_j}$\n",
    "\n",
    "$W = \\text{Explanation Matrix,  } n\\times d^{\\prime}$\n",
    "\n",
    "$V = \\text{Set of chosen explanations}$\n",
    "\n",
    "$I = \\text{Global feature importance vector,   } I_j = \\sqrt{\\sum_i{|W_{ij}|}}$"
   ]
  },
  {
   "cell_type": "code",
   "execution_count": 34,
   "metadata": {
    "collapsed": false
   },
   "outputs": [],
   "source": [
    "import warnings\n",
    "sp_obj = SubmodularPick(explainer, train, rf.predict, sample_size=20, num_features=14,num_exps_desired=5)"
   ]
  },
  {
   "cell_type": "code",
   "execution_count": 35,
   "metadata": {
    "collapsed": false
   },
   "outputs": [
    {
     "data": {
      "image/png": "[encoded data removed]",
      "text/plain": [
       "<Figure size 432x288 with 1 Axes>"
      ]
     },
     "metadata": {},
     "output_type": "display_data"
    },
    {
     "data": {
      "image/png": "[encoded data removed]",
      "text/plain": [
       "<Figure size 432x288 with 1 Axes>"
      ]
     },
     "metadata": {},
     "output_type": "display_data"
    },
    {
     "data": {
      "image/png": "[encoded data removed]",
      "text/plain": [
       "<Figure size 432x288 with 1 Axes>"
      ]
     },
     "metadata": {},
     "output_type": "display_data"
    },
    {
     "data": {
      "image/png": "[encoded data removed]",
      "text/plain": [
       "<Figure size 432x288 with 1 Axes>"
      ]
     },
     "metadata": {},
     "output_type": "display_data"
    },
    {
     "data": {
      "image/png": "[encoded data removed]",
      "text/plain": [
       "<Figure size 432x288 with 1 Axes>"
      ]
     },
     "metadata": {},
     "output_type": "display_data"
    }
   ],
   "source": [
    "[exp.as_pyplot_figure() for exp in sp_obj.sp_explanations];"
   ]
  },
  {
   "cell_type": "code",
   "execution_count": 36,
   "metadata": {
    "collapsed": true
   },
   "outputs": [],
   "source": [
    "import pandas as pd\n",
    "W=pd.DataFrame([dict(this.as_list()) for this in sp_obj.explanations])"
   ]
  },
  {
   "cell_type": "code",
   "execution_count": 37,
   "metadata": {
    "collapsed": false
   },
   "outputs": [
    {
     "data": {
      "text/html": [
       "<div>\n",
       "<style scoped>\n",
       "    .dataframe tbody tr th:only-of-type {\n",
       "        vertical-align: middle;\n",
       "    }\n",
       "\n",
       "    .dataframe tbody tr th {\n",
       "        vertical-align: top;\n",
       "    }\n",
       "\n",
       "    .dataframe thead th {\n",
       "        text-align: right;\n",
       "    }\n",
       "</style>\n",
       "<table border=\"1\" class=\"dataframe\">\n",
       "  <thead>\n",
       "    <tr style=\"text-align: right;\">\n",
       "      <th></th>\n",
       "      <th>AGE</th>\n",
       "      <th>B</th>\n",
       "      <th>CHAS=0</th>\n",
       "      <th>CHAS=1</th>\n",
       "      <th>CRIM</th>\n",
       "      <th>DIS</th>\n",
       "      <th>INDUS</th>\n",
       "      <th>LSTAT</th>\n",
       "      <th>NOX</th>\n",
       "      <th>PTRATIO</th>\n",
       "      <th>RAD=2</th>\n",
       "      <th>RAD=24</th>\n",
       "      <th>RAD=3</th>\n",
       "      <th>RAD=4</th>\n",
       "      <th>RAD=5</th>\n",
       "      <th>RAD=7</th>\n",
       "      <th>RM</th>\n",
       "      <th>TAX</th>\n",
       "      <th>ZN</th>\n",
       "    </tr>\n",
       "  </thead>\n",
       "  <tbody>\n",
       "    <tr>\n",
       "      <th>0</th>\n",
       "      <td>-0.057490</td>\n",
       "      <td>-0.001675</td>\n",
       "      <td>NaN</td>\n",
       "      <td>0.221949</td>\n",
       "      <td>0.097950</td>\n",
       "      <td>-1.689589</td>\n",
       "      <td>-0.195349</td>\n",
       "      <td>-4.943962</td>\n",
       "      <td>-0.357396</td>\n",
       "      <td>-0.316519</td>\n",
       "      <td>NaN</td>\n",
       "      <td>0.128580</td>\n",
       "      <td>NaN</td>\n",
       "      <td>NaN</td>\n",
       "      <td>NaN</td>\n",
       "      <td>NaN</td>\n",
       "      <td>1.698543</td>\n",
       "      <td>-0.117684</td>\n",
       "      <td>-0.031437</td>\n",
       "    </tr>\n",
       "    <tr>\n",
       "      <th>1</th>\n",
       "      <td>-0.127459</td>\n",
       "      <td>0.057808</td>\n",
       "      <td>-0.066255</td>\n",
       "      <td>NaN</td>\n",
       "      <td>0.111473</td>\n",
       "      <td>-1.531901</td>\n",
       "      <td>-0.236689</td>\n",
       "      <td>-4.741594</td>\n",
       "      <td>-0.212246</td>\n",
       "      <td>-0.516197</td>\n",
       "      <td>-0.102151</td>\n",
       "      <td>NaN</td>\n",
       "      <td>NaN</td>\n",
       "      <td>NaN</td>\n",
       "      <td>NaN</td>\n",
       "      <td>NaN</td>\n",
       "      <td>2.025870</td>\n",
       "      <td>-0.326354</td>\n",
       "      <td>0.097508</td>\n",
       "    </tr>\n",
       "    <tr>\n",
       "      <th>2</th>\n",
       "      <td>-0.180283</td>\n",
       "      <td>0.046985</td>\n",
       "      <td>0.034000</td>\n",
       "      <td>NaN</td>\n",
       "      <td>0.022352</td>\n",
       "      <td>-1.461229</td>\n",
       "      <td>-0.126670</td>\n",
       "      <td>-4.991636</td>\n",
       "      <td>-0.498466</td>\n",
       "      <td>-0.323377</td>\n",
       "      <td>NaN</td>\n",
       "      <td>0.122342</td>\n",
       "      <td>NaN</td>\n",
       "      <td>NaN</td>\n",
       "      <td>NaN</td>\n",
       "      <td>NaN</td>\n",
       "      <td>1.389297</td>\n",
       "      <td>-0.145721</td>\n",
       "      <td>0.056585</td>\n",
       "    </tr>\n",
       "    <tr>\n",
       "      <th>3</th>\n",
       "      <td>-0.175469</td>\n",
       "      <td>0.039349</td>\n",
       "      <td>0.032463</td>\n",
       "      <td>NaN</td>\n",
       "      <td>0.241725</td>\n",
       "      <td>-1.141662</td>\n",
       "      <td>-0.124166</td>\n",
       "      <td>-4.403933</td>\n",
       "      <td>-0.176848</td>\n",
       "      <td>-0.411888</td>\n",
       "      <td>NaN</td>\n",
       "      <td>NaN</td>\n",
       "      <td>NaN</td>\n",
       "      <td>-0.064857</td>\n",
       "      <td>NaN</td>\n",
       "      <td>NaN</td>\n",
       "      <td>2.041430</td>\n",
       "      <td>-0.292045</td>\n",
       "      <td>-0.028940</td>\n",
       "    </tr>\n",
       "    <tr>\n",
       "      <th>4</th>\n",
       "      <td>-0.115612</td>\n",
       "      <td>0.098805</td>\n",
       "      <td>-0.301262</td>\n",
       "      <td>NaN</td>\n",
       "      <td>0.287439</td>\n",
       "      <td>-1.606070</td>\n",
       "      <td>-0.160903</td>\n",
       "      <td>-4.790266</td>\n",
       "      <td>-0.262304</td>\n",
       "      <td>-0.397852</td>\n",
       "      <td>NaN</td>\n",
       "      <td>NaN</td>\n",
       "      <td>NaN</td>\n",
       "      <td>-0.204295</td>\n",
       "      <td>NaN</td>\n",
       "      <td>NaN</td>\n",
       "      <td>1.940261</td>\n",
       "      <td>-0.356099</td>\n",
       "      <td>0.016996</td>\n",
       "    </tr>\n",
       "  </tbody>\n",
       "</table>\n",
       "</div>"
      ],
      "text/plain": [
       "        AGE         B    CHAS=0    CHAS=1      CRIM       DIS     INDUS  \\\n",
       "0 -0.057490 -0.001675       NaN  0.221949  0.097950 -1.689589 -0.195349   \n",
       "1 -0.127459  0.057808 -0.066255       NaN  0.111473 -1.531901 -0.236689   \n",
       "2 -0.180283  0.046985  0.034000       NaN  0.022352 -1.461229 -0.126670   \n",
       "3 -0.175469  0.039349  0.032463       NaN  0.241725 -1.141662 -0.124166   \n",
       "4 -0.115612  0.098805 -0.301262       NaN  0.287439 -1.606070 -0.160903   \n",
       "\n",
       "      LSTAT       NOX   PTRATIO     RAD=2    RAD=24  RAD=3     RAD=4  RAD=5  \\\n",
       "0 -4.943962 -0.357396 -0.316519       NaN  0.128580    NaN       NaN    NaN   \n",
       "1 -4.741594 -0.212246 -0.516197 -0.102151       NaN    NaN       NaN    NaN   \n",
       "2 -4.991636 -0.498466 -0.323377       NaN  0.122342    NaN       NaN    NaN   \n",
       "3 -4.403933 -0.176848 -0.411888       NaN       NaN    NaN -0.064857    NaN   \n",
       "4 -4.790266 -0.262304 -0.397852       NaN       NaN    NaN -0.204295    NaN   \n",
       "\n",
       "   RAD=7        RM       TAX        ZN  \n",
       "0    NaN  1.698543 -0.117684 -0.031437  \n",
       "1    NaN  2.025870 -0.326354  0.097508  \n",
       "2    NaN  1.389297 -0.145721  0.056585  \n",
       "3    NaN  2.041430 -0.292045 -0.028940  \n",
       "4    NaN  1.940261 -0.356099  0.016996  "
      ]
     },
     "execution_count": 37,
     "metadata": {},
     "output_type": "execute_result"
    }
   ],
   "source": [
    "W.head()"
   ]
  },
  {
   "cell_type": "code",
   "execution_count": 38,
   "metadata": {
    "collapsed": false,
    "scrolled": true
   },
   "outputs": [
    {
     "data": {
      "image/png": "[encoded data removed]",
      "text/plain": [
       "<Figure size 432x288 with 1 Axes>"
      ]
     },
     "metadata": {},
     "output_type": "display_data"
    }
   ],
   "source": [
    "im=W.hist('NOX',bins=20)"
   ]
  },
  {
   "cell_type": "markdown",
   "metadata": {},
   "source": [
    "## Text explainer using the newsgroups"
   ]
  },
  {
   "cell_type": "code",
   "execution_count": 39,
   "metadata": {
    "collapsed": false
   },
   "outputs": [
    {
     "name": "stderr",
     "output_type": "stream",
     "text": [
      "/Users/dyanni3/anaconda/lib/python3.5/re.py:203: FutureWarning: split() requires a non-empty pattern match.\n",
      "  return _compile(pattern, flags).split(string, maxsplit)\n"
     ]
    },
    {
     "name": "stdout",
     "output_type": "stream",
     "text": [
      "Document id: 83\n",
      "Probability(christian) = 0.444\n",
      "True class: atheism\n"
     ]
    }
   ],
   "source": [
    "# run the text explainer example notebook, up to single explanation\n",
    "import sklearn\n",
    "import numpy as np\n",
    "import sklearn\n",
    "import sklearn.ensemble\n",
    "import sklearn.metrics\n",
    "from __future__ import print_function\n",
    "\n",
    "from sklearn.datasets import fetch_20newsgroups\n",
    "categories = ['alt.atheism', 'soc.religion.christian']\n",
    "newsgroups_train = fetch_20newsgroups(subset='train', categories=categories)\n",
    "newsgroups_test = fetch_20newsgroups(subset='test', categories=categories)\n",
    "class_names = ['atheism', 'christian']\n",
    "\n",
    "vectorizer = sklearn.feature_extraction.text.TfidfVectorizer(lowercase=False)\n",
    "train_vectors = vectorizer.fit_transform(newsgroups_train.data)\n",
    "test_vectors = vectorizer.transform(newsgroups_test.data)\n",
    "\n",
    "rf = sklearn.ensemble.RandomForestClassifier(n_estimators=500)\n",
    "rf.fit(train_vectors, newsgroups_train.target)\n",
    "\n",
    "pred = rf.predict(test_vectors)\n",
    "sklearn.metrics.f1_score(newsgroups_test.target, pred, average='binary')\n",
    "\n",
    "from lime import lime_text\n",
    "from sklearn.pipeline import make_pipeline\n",
    "c = make_pipeline(vectorizer, rf)\n",
    "\n",
    "from lime.lime_text import LimeTextExplainer\n",
    "explainer = LimeTextExplainer(class_names=class_names)\n",
    "\n",
    "idx = 83\n",
    "exp = explainer.explain_instance(newsgroups_test.data[idx], c.predict_proba, num_features=6)\n",
    "print('Document id: %d' % idx)\n",
    "print('Probability(christian) =', c.predict_proba([newsgroups_test.data[idx]])[0,1])\n",
    "print('True class: %s' % class_names[newsgroups_test.target[idx]])"
   ]
  },
  {
   "cell_type": "code",
   "execution_count": 40,
   "metadata": {
    "collapsed": false
   },
   "outputs": [
    {
     "name": "stderr",
     "output_type": "stream",
     "text": [
      "/Users/dyanni3/anaconda/lib/python3.5/re.py:203: FutureWarning: split() requires a non-empty pattern match.\n",
      "  return _compile(pattern, flags).split(string, maxsplit)\n"
     ]
    }
   ],
   "source": [
    "sp_obj=SubmodularPick(explainer, newsgroups_test.data, c.predict_proba, sample_size=2, num_features=6,num_exps_desired=2,top_labels=3)"
   ]
  },
  {
   "cell_type": "code",
   "execution_count": 41,
   "metadata": {
    "collapsed": false
   },
   "outputs": [
    {
     "data": {
      "image/png": "[encoded data removed]",
      "text/plain": [
       "<Figure size 432x288 with 1 Axes>"
      ]
     },
     "metadata": {},
     "output_type": "display_data"
    },
    {
     "data": {
      "image/png": "[encoded data removed]",
      "text/plain": [
       "<Figure size 432x288 with 1 Axes>"
      ]
     },
     "metadata": {},
     "output_type": "display_data"
    }
   ],
   "source": [
    "[exp.as_pyplot_figure(label=0) for exp in sp_obj.sp_explanations];"
   ]
  },
  {
   "cell_type": "code",
   "execution_count": 42,
   "metadata": {
    "collapsed": false,
    "scrolled": true
   },
   "outputs": [
    {
     "data": {
      "image/png": "[encoded data removed]",
      "text/plain": [
       "<Figure size 432x288 with 1 Axes>"
      ]
     },
     "metadata": {},
     "output_type": "display_data"
    },
    {
     "data": {
      "image/png": "[encoded data removed]",
      "text/plain": [
       "<Figure size 432x288 with 1 Axes>"
      ]
     },
     "metadata": {},
     "output_type": "display_data"
    }
   ],
   "source": [
    "[exp.as_pyplot_figure(label=1) for exp in sp_obj.sp_explanations];"
   ]
  },
  {
   "cell_type": "code",
   "execution_count": 43,
   "metadata": {
    "collapsed": false
   },
   "outputs": [
    {
     "data": {
      "text/plain": [
       "0.8333333333333334"
      ]
     },
     "execution_count": 43,
     "metadata": {},
     "output_type": "execute_result"
    }
   ],
   "source": [
    "from sklearn.datasets import load_iris\n",
    "iris=load_iris()\n",
    "from sklearn.cross_validation import train_test_split as tts\n",
    "Xtrain,Xtest,ytrain,ytest=tts(iris.data,iris.target,test_size=.2)\n",
    "from sklearn.ensemble import RandomForestClassifier\n",
    "rf=RandomForestClassifier()\n",
    "rf.fit(Xtrain,ytrain)\n",
    "rf.score(Xtest,ytest)"
   ]
  },
  {
   "cell_type": "code",
   "execution_count": 44,
   "metadata": {
    "collapsed": true
   },
   "outputs": [],
   "source": [
    "explainer = lime.lime_tabular.LimeTabularExplainer(Xtrain, \n",
    "                                                   feature_names=iris.feature_names,\n",
    "                                                   class_names=iris.target_names, \n",
    "                                                   verbose=False, \n",
    "                                                   mode='classification',\n",
    "                                                   discretize_continuous=False)"
   ]
  },
  {
   "cell_type": "code",
   "execution_count": 45,
   "metadata": {
    "collapsed": false
   },
   "outputs": [
    {
     "data": {
      "text/plain": [
       "[1, 2, 0]"
      ]
     },
     "execution_count": 45,
     "metadata": {},
     "output_type": "execute_result"
    }
   ],
   "source": [
    "exp=explainer.explain_instance(Xtrain[i],rf.predict_proba,top_labels=3)\n",
    "exp.available_labels()"
   ]
  },
  {
   "cell_type": "code",
   "execution_count": 46,
   "metadata": {
    "collapsed": true
   },
   "outputs": [],
   "source": [
    "sp_obj=SubmodularPick(data=Xtrain,explainer=explainer,num_exps_desired=5,predict_fn=rf.predict_proba, sample_size=20, top_labels=3, num_features=4)"
   ]
  },
  {
   "cell_type": "code",
   "execution_count": 47,
   "metadata": {
    "collapsed": false
   },
   "outputs": [
    {
     "data": {
      "text/html": [
       "<div>\n",
       "<style scoped>\n",
       "    .dataframe tbody tr th:only-of-type {\n",
       "        vertical-align: middle;\n",
       "    }\n",
       "\n",
       "    .dataframe tbody tr th {\n",
       "        vertical-align: top;\n",
       "    }\n",
       "\n",
       "    .dataframe thead th {\n",
       "        text-align: right;\n",
       "    }\n",
       "</style>\n",
       "<table border=\"1\" class=\"dataframe\">\n",
       "  <thead>\n",
       "    <tr style=\"text-align: right;\">\n",
       "      <th></th>\n",
       "      <th>exp number</th>\n",
       "      <th>petal length (cm)</th>\n",
       "      <th>petal width (cm)</th>\n",
       "      <th>sepal length (cm)</th>\n",
       "      <th>sepal width (cm)</th>\n",
       "    </tr>\n",
       "  </thead>\n",
       "  <tbody>\n",
       "    <tr>\n",
       "      <th>setosa</th>\n",
       "      <td>0</td>\n",
       "      <td>-0.082228</td>\n",
       "      <td>-0.236923</td>\n",
       "      <td>-0.032294</td>\n",
       "      <td>0.012060</td>\n",
       "    </tr>\n",
       "    <tr>\n",
       "      <th>setosa</th>\n",
       "      <td>1</td>\n",
       "      <td>-0.090088</td>\n",
       "      <td>-0.260716</td>\n",
       "      <td>-0.025831</td>\n",
       "      <td>0.012220</td>\n",
       "    </tr>\n",
       "    <tr>\n",
       "      <th>setosa</th>\n",
       "      <td>2</td>\n",
       "      <td>-0.061403</td>\n",
       "      <td>-0.203016</td>\n",
       "      <td>-0.032648</td>\n",
       "      <td>0.008165</td>\n",
       "    </tr>\n",
       "    <tr>\n",
       "      <th>setosa</th>\n",
       "      <td>3</td>\n",
       "      <td>-0.115855</td>\n",
       "      <td>-0.326017</td>\n",
       "      <td>-0.043795</td>\n",
       "      <td>0.021527</td>\n",
       "    </tr>\n",
       "    <tr>\n",
       "      <th>setosa</th>\n",
       "      <td>4</td>\n",
       "      <td>-0.108132</td>\n",
       "      <td>-0.319248</td>\n",
       "      <td>-0.043905</td>\n",
       "      <td>0.014563</td>\n",
       "    </tr>\n",
       "    <tr>\n",
       "      <th>versicolor</th>\n",
       "      <td>0</td>\n",
       "      <td>-0.180320</td>\n",
       "      <td>0.074353</td>\n",
       "      <td>0.047606</td>\n",
       "      <td>-0.000603</td>\n",
       "    </tr>\n",
       "    <tr>\n",
       "      <th>versicolor</th>\n",
       "      <td>1</td>\n",
       "      <td>-0.130953</td>\n",
       "      <td>0.108325</td>\n",
       "      <td>0.049563</td>\n",
       "      <td>-0.012690</td>\n",
       "    </tr>\n",
       "    <tr>\n",
       "      <th>versicolor</th>\n",
       "      <td>2</td>\n",
       "      <td>-0.224952</td>\n",
       "      <td>0.035047</td>\n",
       "      <td>0.027544</td>\n",
       "      <td>-0.009744</td>\n",
       "    </tr>\n",
       "    <tr>\n",
       "      <th>versicolor</th>\n",
       "      <td>3</td>\n",
       "      <td>-0.009624</td>\n",
       "      <td>0.215826</td>\n",
       "      <td>0.085704</td>\n",
       "      <td>-0.021219</td>\n",
       "    </tr>\n",
       "    <tr>\n",
       "      <th>versicolor</th>\n",
       "      <td>4</td>\n",
       "      <td>-0.032447</td>\n",
       "      <td>0.207419</td>\n",
       "      <td>0.082044</td>\n",
       "      <td>-0.020580</td>\n",
       "    </tr>\n",
       "    <tr>\n",
       "      <th>virginica</th>\n",
       "      <td>0</td>\n",
       "      <td>0.262549</td>\n",
       "      <td>0.162570</td>\n",
       "      <td>-0.015312</td>\n",
       "      <td>-0.011457</td>\n",
       "    </tr>\n",
       "    <tr>\n",
       "      <th>virginica</th>\n",
       "      <td>1</td>\n",
       "      <td>0.221041</td>\n",
       "      <td>0.152391</td>\n",
       "      <td>-0.023731</td>\n",
       "      <td>0.000470</td>\n",
       "    </tr>\n",
       "    <tr>\n",
       "      <th>virginica</th>\n",
       "      <td>2</td>\n",
       "      <td>0.286355</td>\n",
       "      <td>0.167969</td>\n",
       "      <td>0.005104</td>\n",
       "      <td>0.001579</td>\n",
       "    </tr>\n",
       "    <tr>\n",
       "      <th>virginica</th>\n",
       "      <td>3</td>\n",
       "      <td>0.125479</td>\n",
       "      <td>0.110191</td>\n",
       "      <td>-0.041909</td>\n",
       "      <td>-0.000308</td>\n",
       "    </tr>\n",
       "    <tr>\n",
       "      <th>virginica</th>\n",
       "      <td>4</td>\n",
       "      <td>0.140578</td>\n",
       "      <td>0.111829</td>\n",
       "      <td>-0.038139</td>\n",
       "      <td>0.006017</td>\n",
       "    </tr>\n",
       "  </tbody>\n",
       "</table>\n",
       "</div>"
      ],
      "text/plain": [
       "            exp number  petal length (cm)  petal width (cm)  \\\n",
       "setosa               0          -0.082228         -0.236923   \n",
       "setosa               1          -0.090088         -0.260716   \n",
       "setosa               2          -0.061403         -0.203016   \n",
       "setosa               3          -0.115855         -0.326017   \n",
       "setosa               4          -0.108132         -0.319248   \n",
       "versicolor           0          -0.180320          0.074353   \n",
       "versicolor           1          -0.130953          0.108325   \n",
       "versicolor           2          -0.224952          0.035047   \n",
       "versicolor           3          -0.009624          0.215826   \n",
       "versicolor           4          -0.032447          0.207419   \n",
       "virginica            0           0.262549          0.162570   \n",
       "virginica            1           0.221041          0.152391   \n",
       "virginica            2           0.286355          0.167969   \n",
       "virginica            3           0.125479          0.110191   \n",
       "virginica            4           0.140578          0.111829   \n",
       "\n",
       "            sepal length (cm)  sepal width (cm)  \n",
       "setosa              -0.032294          0.012060  \n",
       "setosa              -0.025831          0.012220  \n",
       "setosa              -0.032648          0.008165  \n",
       "setosa              -0.043795          0.021527  \n",
       "setosa              -0.043905          0.014563  \n",
       "versicolor           0.047606         -0.000603  \n",
       "versicolor           0.049563         -0.012690  \n",
       "versicolor           0.027544         -0.009744  \n",
       "versicolor           0.085704         -0.021219  \n",
       "versicolor           0.082044         -0.020580  \n",
       "virginica           -0.015312         -0.011457  \n",
       "virginica           -0.023731          0.000470  \n",
       "virginica            0.005104          0.001579  \n",
       "virginica           -0.041909         -0.000308  \n",
       "virginica           -0.038139          0.006017  "
      ]
     },
     "execution_count": 47,
     "metadata": {},
     "output_type": "execute_result"
    }
   ],
   "source": [
    "import pandas as pd\n",
    "df=pd.DataFrame({})\n",
    "for this_label in range(3):\n",
    "    dfl=[]\n",
    "    for i,exp in enumerate(sp_obj.sp_explanations):\n",
    "        l=exp.as_list(label=this_label)\n",
    "        l.append((\"exp number\",i))\n",
    "        dfl.append(dict(l))\n",
    "    dftest=pd.DataFrame(dfl)\n",
    "    df=df.append(pd.DataFrame(dfl,index=[iris.target_names[this_label] for i in range(len(sp_obj.sp_explanations))]))\n",
    "df"
   ]
  },
  {
   "cell_type": "code",
   "execution_count": null,
   "metadata": {
    "collapsed": true
   },
   "outputs": [],
   "source": []
  }
 ],
 "metadata": {
  "anaconda-cloud": {},
  "kernelspec": {
   "display_name": "Python [default]",
   "language": "python",
   "name": "python3"
  },
  "language_info": {
   "codemirror_mode": {
    "name": "ipython",
    "version": 3
   },
   "file_extension": ".py",
   "mimetype": "text/x-python",
   "name": "python",
   "nbconvert_exporter": "python",
   "pygments_lexer": "ipython3",
   "version": "3.5.5"
  }
 },
 "nbformat": 4,
 "nbformat_minor": 2
}

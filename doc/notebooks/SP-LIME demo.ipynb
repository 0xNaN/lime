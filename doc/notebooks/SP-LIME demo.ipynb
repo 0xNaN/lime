{
 "cells": [
  {
   "cell_type": "code",
   "execution_count": 1,
   "metadata": {},
   "outputs": [
    {
     "name": "stdout",
     "output_type": "stream",
     "text": [
      "Boston House Prices dataset\n",
      "===========================\n",
      "\n",
      "Notes\n",
      "------\n",
      "Data Set Characteristics:  \n",
      "\n",
      "    :Number of Instances: 506 \n",
      "\n",
      "    :Number of Attributes: 13 numeric/categorical predictive\n",
      "    \n",
      "    :Median Value (attribute 14) is usually the target\n",
      "\n",
      "    :Attribute Information (in order):\n",
      "        - CRIM     per capita crime rate by town\n",
      "        - ZN       proportion of residential land zoned for lots over 25,000 sq.ft.\n",
      "        - INDUS    proportion of non-retail business acres per town\n",
      "        - CHAS     Charles River dummy variable (= 1 if tract bounds river; 0 otherwise)\n",
      "        - NOX      nitric oxides concentration (parts per 10 million)\n",
      "        - RM       average number of rooms per dwelling\n",
      "        - AGE      proportion of owner-occupied units built prior to 1940\n",
      "        - DIS      weighted distances to five Boston employment centres\n",
      "        - RAD      index of accessibility to radial highways\n",
      "        - TAX      full-value property-tax rate per $10,000\n",
      "        - PTRATIO  pupil-teacher ratio by town\n",
      "        - B        1000(Bk - 0.63)^2 where Bk is the proportion of blacks by town\n",
      "        - LSTAT    % lower status of the population\n",
      "        - MEDV     Median value of owner-occupied homes in $1000's\n",
      "\n",
      "    :Missing Attribute Values: None\n",
      "\n",
      "    :Creator: Harrison, D. and Rubinfeld, D.L.\n",
      "\n",
      "This is a copy of UCI ML housing dataset.\n",
      "http://archive.ics.uci.edu/ml/datasets/Housing\n",
      "\n",
      "\n",
      "This dataset was taken from the StatLib library which is maintained at Carnegie Mellon University.\n",
      "\n",
      "The Boston house-price data of Harrison, D. and Rubinfeld, D.L. 'Hedonic\n",
      "prices and the demand for clean air', J. Environ. Economics & Management,\n",
      "vol.5, 81-102, 1978.   Used in Belsley, Kuh & Welsch, 'Regression diagnostics\n",
      "...', Wiley, 1980.   N.B. Various transformations are used in the table on\n",
      "pages 244-261 of the latter.\n",
      "\n",
      "The Boston house-price data has been used in many machine learning papers that address regression\n",
      "problems.   \n",
      "     \n",
      "**References**\n",
      "\n",
      "   - Belsley, Kuh & Welsch, 'Regression diagnostics: Identifying Influential Data and Sources of Collinearity', Wiley, 1980. 244-261.\n",
      "   - Quinlan,R. (1993). Combining Instance-Based and Model-Based Learning. In Proceedings on the Tenth International Conference of Machine Learning, 236-243, University of Massachusetts, Amherst. Morgan Kaufmann.\n",
      "   - many more! (see http://archive.ics.uci.edu/ml/datasets/Housing)\n",
      "\n",
      "Random Forest R^2 Score: 0.882\n",
      "Linear Regression R^2 Score: 0.593\n"
     ]
    }
   ],
   "source": [
    "from sklearn.datasets import load_boston\n",
    "import sklearn.ensemble\n",
    "import sklearn.linear_model\n",
    "import sklearn.model_selection\n",
    "import numpy as np\n",
    "from sklearn.metrics import r2_score\n",
    "np.random.seed(1)\n",
    "\n",
    "#load example dataset\n",
    "boston = load_boston()\n",
    "\n",
    "#print a description of the variables\n",
    "print(boston.DESCR)\n",
    "\n",
    "#train a regressor\n",
    "rf = sklearn.ensemble.RandomForestRegressor(n_estimators=1000)\n",
    "train, test, labels_train, labels_test = sklearn.model_selection.train_test_split(boston.data, boston.target, train_size=0.80, test_size=0.20)\n",
    "rf.fit(train, labels_train);\n",
    "\n",
    "#train a linear regressor\n",
    "lr = sklearn.linear_model.LinearRegression()\n",
    "lr.fit(train,labels_train)\n",
    "\n",
    "#print the R^2 score of the random forest\n",
    "print(\"Random Forest R^2 Score: \" +str(round(r2_score(rf.predict(test),labels_test),3)))\n",
    "print(\"Linear Regression R^2 Score: \" +str(round(r2_score(lr.predict(test),labels_test),3)))"
   ]
  },
  {
   "cell_type": "code",
   "execution_count": 2,
   "metadata": {},
   "outputs": [],
   "source": [
    "# import lime tools\n",
    "import lime\n",
    "import lime.lime_tabular\n",
    "\n",
    "# generate an \"explainer\" object\n",
    "categorical_features  = np.argwhere(np.array([len(set(boston.data[:,x])) for x in range(boston.data.shape[1])]) <= 10).flatten()\n",
    "explainer = lime.lime_tabular.LimeTabularExplainer(train, feature_names=boston.feature_names, class_names=['price'], categorical_features=categorical_features, verbose=False, mode='regression',discretize_continuous=False)"
   ]
  },
  {
   "cell_type": "code",
   "execution_count": 3,
   "metadata": {},
   "outputs": [],
   "source": [
    "#generate an explanation\n",
    "i = 13\n",
    "exp = explainer.explain_instance(test[i], rf.predict, num_features=14)"
   ]
  },
  {
   "cell_type": "code",
   "execution_count": 4,
   "metadata": {},
   "outputs": [
    {
     "data": {
      "image/png": "[encoded data removed]",
      "text/plain": [
       "<Figure size 432x288 with 1 Axes>"
      ]
     },
     "metadata": {},
     "output_type": "display_data"
    }
   ],
   "source": [
    "%matplotlib inline\n",
    "fig = exp.as_pyplot_figure();"
   ]
  },
  {
   "cell_type": "code",
   "execution_count": 5,
   "metadata": {},
   "outputs": [
    {
     "name": "stdout",
     "output_type": "stream",
     "text": [
      "Input feature names: \n",
      "['CRIM' 'ZN' 'INDUS' 'CHAS' 'NOX' 'RM' 'AGE' 'DIS' 'RAD' 'TAX' 'PTRATIO'\n",
      " 'B' 'LSTAT']\n",
      "\n",
      "\n",
      "Input feature values: \n",
      "[4.3790e-02 8.0000e+01 3.3700e+00 0.0000e+00 3.9800e-01 5.7870e+00\n",
      " 3.1100e+01 6.6115e+00 4.0000e+00 3.3700e+02 1.6100e+01 3.9690e+02\n",
      " 1.0240e+01]\n",
      "\n",
      "\n",
      "Predicted: \n",
      "20.16219999999996\n"
     ]
    }
   ],
   "source": [
    "print(\"Input feature names: \")\n",
    "print(boston.feature_names)\n",
    "print('\\n')\n",
    "\n",
    "print(\"Input feature values: \")\n",
    "print(test[i])\n",
    "print('\\n')\n",
    "\n",
    "print(\"Predicted: \")\n",
    "print(rf.predict(test)[i])"
   ]
  },
  {
   "cell_type": "code",
   "execution_count": 6,
   "metadata": {},
   "outputs": [],
   "source": [
    "class SubmodularPick(object):\n",
    "        \"\"\"Class for submodular pick\"\"\"\n",
    "        \n",
    "        def __init__(self, \n",
    "                     explainer,\n",
    "                     data,\n",
    "                     predict_fn,\n",
    "                     method='sample',\n",
    "                     sample_size=1000,\n",
    "                     num_exps_desired=5,\n",
    "                     num_features=10,\n",
    "                     **kwargs):\n",
    "            \n",
    "            \"\"\"Saves a representative sample of explanation objects using SP-LIME,\n",
    "            as well as saving all generated explanations \n",
    "\n",
    "            First, a collection of candidate explanations are generated\n",
    "            (see explain_instance). From these candidates, num_exps_desired are\n",
    "            chosen using submodular pick. (see marcotcr et al paper).\n",
    "\n",
    "\n",
    "            Args:\n",
    "                data: a numpy array where each row is a single input into predict_fn\n",
    "                predict_fn: prediction function. For classifiers, this should be a\n",
    "                        function that takes a numpy array and outputs prediction\n",
    "                        probabilities. For regressors, this takes a numpy array and\n",
    "                        returns the predictions. For ScikitClassifiers, this is\n",
    "                        `classifier.predict_proba()`. For ScikitRegressors, this\n",
    "                        is `regressor.predict()`. The prediction function needs to work\n",
    "                        on multiple feature vectors (the vectors randomly perturbed\n",
    "                        from the data_row).\n",
    "                method: The method to use to generate candidate explanations\n",
    "                        method == 'sample' will sample the data uniformly at\n",
    "                        random. The sample size is given by sample_size. Otherwise\n",
    "                        if method == 'full' then explanations will be generated for the\n",
    "                        entire data.\n",
    "                sample_size: The number of instances to explain if method == 'sample'\n",
    "                num_exps_desired: The number of explanation objects returned.\n",
    "                num_features: maximum number of features present in explanation\n",
    "\n",
    "\n",
    "            Sets value:\n",
    "                sp_explanations: A list of explanation objects that has a high coverage\n",
    "                explanations: All the candidate explanations saved for potential future use.\n",
    "                  \"\"\"\n",
    "        \n",
    "            # Parse args\n",
    "            if method == 'sample':\n",
    "                if sample_size > len(data):\n",
    "                    warnings.warn(\"\"\"Requested sample size larger than\n",
    "                                  size of input data. Using all data\"\"\")\n",
    "                    sample_size = len(data)\n",
    "                all_indices = np.arange(len(data))\n",
    "                np.random.shuffle(all_indices)\n",
    "                sample_indices = all_indices[:sample_size]\n",
    "            elif method == 'full':\n",
    "                sample_indices = np.arange(len(data))\n",
    "\n",
    "            # Generate Explanations\n",
    "            self.explanations = []\n",
    "            for i in sample_indices:\n",
    "               self.explanations.append(\n",
    "                    explainer.explain_instance(\n",
    "                        data[i], predict_fn, num_features=num_features))\n",
    "            # Error handling\n",
    "            try:\n",
    "                num_exps_desired = int(num_exps_desired)\n",
    "            except TypeError:\n",
    "                return(\"Requested number of explanations should be an integer\")\n",
    "            if num_exps_desired > len(self.explanations):\n",
    "                warnings.warn(\"\"\"Requested number of explanations larger than\n",
    "                               total number of explanations, returning all\n",
    "                               explanations instead.\"\"\")\n",
    "            num_exps_desired = min(num_exps_desired, len(self.explanations))\n",
    "\n",
    "            # Find all the explanation model features used. Defines the dimension d'\n",
    "            features_dict = {}\n",
    "            feature_iter = 0\n",
    "            for exp in self.explanations:\n",
    "                for feature, _ in exp.as_list():\n",
    "                    if feature not in features_dict.keys():\n",
    "                        features_dict[feature] = (feature_iter)\n",
    "                        feature_iter += 1\n",
    "            d_prime = len(features_dict.keys())\n",
    "\n",
    "            # Create the n x d' dimensional 'explanation matrix', W\n",
    "            W = np.zeros((len(self.explanations), d_prime))\n",
    "            for i, exp in enumerate(self.explanations):\n",
    "                for feature, value in exp.as_list():\n",
    "                    W[i, features_dict[feature]] = value\n",
    "\n",
    "            # Create the global importance vector, I_j described in the paper\n",
    "            importance = np.sum(abs(W), axis=0)**.5\n",
    "\n",
    "            # Now run the SP-LIME greedy algorithm\n",
    "            remaining_indices = set(range(len(self.explanations)))\n",
    "            V = []\n",
    "            for _ in range(num_exps_desired):\n",
    "                best = 0\n",
    "                best_ind = None\n",
    "                current = 0\n",
    "                for i in remaining_indices:\n",
    "                    current = np.dot(\n",
    "                            (np.sum(abs(W)[V + [i]], axis=0) > 0), importance\n",
    "                            )  # coverage function\n",
    "                    if current >= best:\n",
    "                        best = current\n",
    "                        best_ind = i\n",
    "                V.append(best_ind)\n",
    "                remaining_indices -= {best_ind}\n",
    "\n",
    "            self.sp_explanations = [self.explanations[i] for i in V]"
   ]
  },
  {
   "cell_type": "markdown",
   "metadata": {},
   "source": [
    "# SP-LIME pick step\n",
    "\n",
    "### Maximize the 'coverage' function:\n",
    "\n",
    "$c(V,W,I) = \\sum_{j=1}^{d^{\\prime}}{\\mathbb{1}_{[\\exists i \\in V : W_{ij}>0]}I_j}$\n",
    "\n",
    "$W = \\text{Explanation Matrix,  } n\\times d^{\\prime}$\n",
    "\n",
    "$V = \\text{Set of chosen explanations}$\n",
    "\n",
    "$I = \\text{Global feature importance vector,   } I_j = \\sqrt{\\sum_i{|W_{ij}|}}$"
   ]
  },
  {
   "cell_type": "code",
   "execution_count": 7,
   "metadata": {},
   "outputs": [],
   "source": [
    "import warnings\n",
    "sp_obj = SubmodularPick(explainer, train, rf.predict, sample_size=200, num_features=15,num_exps_desired=5)"
   ]
  },
  {
   "cell_type": "code",
   "execution_count": 8,
   "metadata": {},
   "outputs": [
    {
     "data": {
      "image/png": "[encoded data removed]",
      "text/plain": [
       "<Figure size 432x288 with 1 Axes>"
      ]
     },
     "metadata": {},
     "output_type": "display_data"
    },
    {
     "data": {
      "image/png": "[encoded data removed]",
      "text/plain": [
       "<Figure size 432x288 with 1 Axes>"
      ]
     },
     "metadata": {},
     "output_type": "display_data"
    },
    {
     "data": {
      "image/png": "[encoded data removed]",
      "text/plain": [
       "<Figure size 432x288 with 1 Axes>"
      ]
     },
     "metadata": {},
     "output_type": "display_data"
    },
    {
     "data": {
      "image/png": "[encoded data removed]",
      "text/plain": [
       "<Figure size 432x288 with 1 Axes>"
      ]
     },
     "metadata": {},
     "output_type": "display_data"
    },
    {
     "data": {
      "image/png": "[encoded data removed]",
      "text/plain": [
       "<Figure size 432x288 with 1 Axes>"
      ]
     },
     "metadata": {},
     "output_type": "display_data"
    }
   ],
   "source": [
    "[exp.as_pyplot_figure() for exp in sp_obj.sp_explanations];"
   ]
  },
  {
   "cell_type": "code",
   "execution_count": 9,
   "metadata": {},
   "outputs": [],
   "source": [
    "import pandas as pd\n",
    "W=pd.DataFrame([dict(this.as_list()) for this in sp_obj.explanations])"
   ]
  },
  {
   "cell_type": "code",
   "execution_count": 10,
   "metadata": {},
   "outputs": [
    {
     "data": {
      "text/html": [
       "<div>\n",
       "<style scoped>\n",
       "    .dataframe tbody tr th:only-of-type {\n",
       "        vertical-align: middle;\n",
       "    }\n",
       "\n",
       "    .dataframe tbody tr th {\n",
       "        vertical-align: top;\n",
       "    }\n",
       "\n",
       "    .dataframe thead th {\n",
       "        text-align: right;\n",
       "    }\n",
       "</style>\n",
       "<table border=\"1\" class=\"dataframe\">\n",
       "  <thead>\n",
       "    <tr style=\"text-align: right;\">\n",
       "      <th></th>\n",
       "      <th>AGE</th>\n",
       "      <th>B</th>\n",
       "      <th>CHAS=0</th>\n",
       "      <th>CHAS=1</th>\n",
       "      <th>CRIM</th>\n",
       "      <th>DIS</th>\n",
       "      <th>INDUS</th>\n",
       "      <th>LSTAT</th>\n",
       "      <th>NOX</th>\n",
       "      <th>PTRATIO</th>\n",
       "      <th>...</th>\n",
       "      <th>RAD=24</th>\n",
       "      <th>RAD=3</th>\n",
       "      <th>RAD=4</th>\n",
       "      <th>RAD=5</th>\n",
       "      <th>RAD=6</th>\n",
       "      <th>RAD=7</th>\n",
       "      <th>RAD=8</th>\n",
       "      <th>RM</th>\n",
       "      <th>TAX</th>\n",
       "      <th>ZN</th>\n",
       "    </tr>\n",
       "  </thead>\n",
       "  <tbody>\n",
       "    <tr>\n",
       "      <th>0</th>\n",
       "      <td>-0.056404</td>\n",
       "      <td>-0.003003</td>\n",
       "      <td>NaN</td>\n",
       "      <td>0.234868</td>\n",
       "      <td>0.105080</td>\n",
       "      <td>-1.694406</td>\n",
       "      <td>-0.191781</td>\n",
       "      <td>-4.945663</td>\n",
       "      <td>-0.355227</td>\n",
       "      <td>-0.315939</td>\n",
       "      <td>...</td>\n",
       "      <td>0.334439</td>\n",
       "      <td>NaN</td>\n",
       "      <td>NaN</td>\n",
       "      <td>NaN</td>\n",
       "      <td>NaN</td>\n",
       "      <td>NaN</td>\n",
       "      <td>NaN</td>\n",
       "      <td>1.698240</td>\n",
       "      <td>-0.118725</td>\n",
       "      <td>-0.035264</td>\n",
       "    </tr>\n",
       "    <tr>\n",
       "      <th>1</th>\n",
       "      <td>-0.130300</td>\n",
       "      <td>0.055792</td>\n",
       "      <td>-0.074155</td>\n",
       "      <td>NaN</td>\n",
       "      <td>0.108873</td>\n",
       "      <td>-1.530726</td>\n",
       "      <td>-0.244340</td>\n",
       "      <td>-4.743977</td>\n",
       "      <td>-0.209300</td>\n",
       "      <td>-0.521534</td>\n",
       "      <td>...</td>\n",
       "      <td>NaN</td>\n",
       "      <td>NaN</td>\n",
       "      <td>NaN</td>\n",
       "      <td>NaN</td>\n",
       "      <td>NaN</td>\n",
       "      <td>NaN</td>\n",
       "      <td>NaN</td>\n",
       "      <td>2.023536</td>\n",
       "      <td>-0.328136</td>\n",
       "      <td>0.096530</td>\n",
       "    </tr>\n",
       "    <tr>\n",
       "      <th>2</th>\n",
       "      <td>-0.176953</td>\n",
       "      <td>0.052402</td>\n",
       "      <td>0.021937</td>\n",
       "      <td>NaN</td>\n",
       "      <td>0.016443</td>\n",
       "      <td>-1.459783</td>\n",
       "      <td>-0.121881</td>\n",
       "      <td>-4.999203</td>\n",
       "      <td>-0.498318</td>\n",
       "      <td>-0.319054</td>\n",
       "      <td>...</td>\n",
       "      <td>-0.063638</td>\n",
       "      <td>NaN</td>\n",
       "      <td>NaN</td>\n",
       "      <td>NaN</td>\n",
       "      <td>NaN</td>\n",
       "      <td>NaN</td>\n",
       "      <td>NaN</td>\n",
       "      <td>1.390980</td>\n",
       "      <td>-0.148644</td>\n",
       "      <td>0.057630</td>\n",
       "    </tr>\n",
       "    <tr>\n",
       "      <th>3</th>\n",
       "      <td>-0.177743</td>\n",
       "      <td>0.033031</td>\n",
       "      <td>0.032770</td>\n",
       "      <td>NaN</td>\n",
       "      <td>0.237928</td>\n",
       "      <td>-1.141905</td>\n",
       "      <td>-0.120768</td>\n",
       "      <td>-4.405054</td>\n",
       "      <td>-0.180637</td>\n",
       "      <td>-0.414612</td>\n",
       "      <td>...</td>\n",
       "      <td>NaN</td>\n",
       "      <td>NaN</td>\n",
       "      <td>-0.120583</td>\n",
       "      <td>NaN</td>\n",
       "      <td>NaN</td>\n",
       "      <td>NaN</td>\n",
       "      <td>NaN</td>\n",
       "      <td>2.040763</td>\n",
       "      <td>-0.290773</td>\n",
       "      <td>-0.029386</td>\n",
       "    </tr>\n",
       "    <tr>\n",
       "      <th>4</th>\n",
       "      <td>-0.114971</td>\n",
       "      <td>0.096195</td>\n",
       "      <td>-0.293510</td>\n",
       "      <td>NaN</td>\n",
       "      <td>0.285023</td>\n",
       "      <td>-1.608368</td>\n",
       "      <td>-0.154441</td>\n",
       "      <td>-4.795056</td>\n",
       "      <td>-0.254318</td>\n",
       "      <td>-0.397891</td>\n",
       "      <td>...</td>\n",
       "      <td>NaN</td>\n",
       "      <td>NaN</td>\n",
       "      <td>0.156887</td>\n",
       "      <td>NaN</td>\n",
       "      <td>NaN</td>\n",
       "      <td>NaN</td>\n",
       "      <td>NaN</td>\n",
       "      <td>1.941944</td>\n",
       "      <td>-0.353325</td>\n",
       "      <td>0.023383</td>\n",
       "    </tr>\n",
       "  </tbody>\n",
       "</table>\n",
       "<p>5 rows × 22 columns</p>\n",
       "</div>"
      ],
      "text/plain": [
       "        AGE         B    CHAS=0    CHAS=1      CRIM       DIS     INDUS  \\\n",
       "0 -0.056404 -0.003003       NaN  0.234868  0.105080 -1.694406 -0.191781   \n",
       "1 -0.130300  0.055792 -0.074155       NaN  0.108873 -1.530726 -0.244340   \n",
       "2 -0.176953  0.052402  0.021937       NaN  0.016443 -1.459783 -0.121881   \n",
       "3 -0.177743  0.033031  0.032770       NaN  0.237928 -1.141905 -0.120768   \n",
       "4 -0.114971  0.096195 -0.293510       NaN  0.285023 -1.608368 -0.154441   \n",
       "\n",
       "      LSTAT       NOX   PTRATIO    ...       RAD=24  RAD=3     RAD=4  RAD=5  \\\n",
       "0 -4.945663 -0.355227 -0.315939    ...     0.334439    NaN       NaN    NaN   \n",
       "1 -4.743977 -0.209300 -0.521534    ...          NaN    NaN       NaN    NaN   \n",
       "2 -4.999203 -0.498318 -0.319054    ...    -0.063638    NaN       NaN    NaN   \n",
       "3 -4.405054 -0.180637 -0.414612    ...          NaN    NaN -0.120583    NaN   \n",
       "4 -4.795056 -0.254318 -0.397891    ...          NaN    NaN  0.156887    NaN   \n",
       "\n",
       "   RAD=6  RAD=7  RAD=8        RM       TAX        ZN  \n",
       "0    NaN    NaN    NaN  1.698240 -0.118725 -0.035264  \n",
       "1    NaN    NaN    NaN  2.023536 -0.328136  0.096530  \n",
       "2    NaN    NaN    NaN  1.390980 -0.148644  0.057630  \n",
       "3    NaN    NaN    NaN  2.040763 -0.290773 -0.029386  \n",
       "4    NaN    NaN    NaN  1.941944 -0.353325  0.023383  \n",
       "\n",
       "[5 rows x 22 columns]"
      ]
     },
     "execution_count": 10,
     "metadata": {},
     "output_type": "execute_result"
    }
   ],
   "source": [
    "W.head()"
   ]
  },
  {
   "cell_type": "code",
   "execution_count": 11,
   "metadata": {},
   "outputs": [
    {
     "data": {
      "image/png": "[encoded data removed]",
      "text/plain": [
       "<Figure size 432x288 with 1 Axes>"
      ]
     },
     "metadata": {},
     "output_type": "display_data"
    }
   ],
   "source": [
    "im=W.hist('NOX',bins=20)"
   ]
  },
  {
   "cell_type": "code",
   "execution_count": 12,
   "metadata": {},
   "outputs": [
    {
     "name": "stderr",
     "output_type": "stream",
     "text": [
      "C:\\Users\\ugdy22\\AppData\\Local\\Continuum\\anaconda3\\lib\\re.py:212: FutureWarning: split() requires a non-empty pattern match.\n",
      "  return _compile(pattern, flags).split(string, maxsplit)\n"
     ]
    },
    {
     "name": "stdout",
     "output_type": "stream",
     "text": [
      "Document id: 83\n",
      "Probability(christian) = 0.446\n",
      "True class: atheism\n"
     ]
    }
   ],
   "source": [
    "# run the text explainer example notebook, up to single explanation\n",
    "import sklearn\n",
    "import numpy as np\n",
    "import sklearn\n",
    "import sklearn.ensemble\n",
    "import sklearn.metrics\n",
    "from __future__ import print_function\n",
    "\n",
    "from sklearn.datasets import fetch_20newsgroups\n",
    "categories = ['alt.atheism', 'soc.religion.christian']\n",
    "newsgroups_train = fetch_20newsgroups(subset='train', categories=categories)\n",
    "newsgroups_test = fetch_20newsgroups(subset='test', categories=categories)\n",
    "class_names = ['atheism', 'christian']\n",
    "\n",
    "vectorizer = sklearn.feature_extraction.text.TfidfVectorizer(lowercase=False)\n",
    "train_vectors = vectorizer.fit_transform(newsgroups_train.data)\n",
    "test_vectors = vectorizer.transform(newsgroups_test.data)\n",
    "\n",
    "rf = sklearn.ensemble.RandomForestClassifier(n_estimators=500)\n",
    "rf.fit(train_vectors, newsgroups_train.target)\n",
    "\n",
    "pred = rf.predict(test_vectors)\n",
    "sklearn.metrics.f1_score(newsgroups_test.target, pred, average='binary')\n",
    "\n",
    "from lime import lime_text\n",
    "from sklearn.pipeline import make_pipeline\n",
    "c = make_pipeline(vectorizer, rf)\n",
    "\n",
    "from lime.lime_text import LimeTextExplainer\n",
    "explainer = LimeTextExplainer(class_names=class_names)\n",
    "\n",
    "idx = 83\n",
    "exp = explainer.explain_instance(newsgroups_test.data[idx], c.predict_proba, num_features=6)\n",
    "print('Document id: %d' % idx)\n",
    "print('Probability(christian) =', c.predict_proba([newsgroups_test.data[idx]])[0,1])\n",
    "print('True class: %s' % class_names[newsgroups_test.target[idx]])"
   ]
  },
  {
   "cell_type": "code",
   "execution_count": 13,
   "metadata": {},
   "outputs": [
    {
     "name": "stderr",
     "output_type": "stream",
     "text": [
      "C:\\Users\\ugdy22\\AppData\\Local\\Continuum\\anaconda3\\lib\\re.py:212: FutureWarning: split() requires a non-empty pattern match.\n",
      "  return _compile(pattern, flags).split(string, maxsplit)\n"
     ]
    }
   ],
   "source": [
    "sp_obj=SubmodularPick(explainer, newsgroups_test.data, c.predict_proba, sample_size=20, num_features=6,num_exps_desired=5)"
   ]
  },
  {
   "cell_type": "code",
   "execution_count": 14,
   "metadata": {},
   "outputs": [
    {
     "data": {
      "image/png": "[encoded data removed]",
      "text/plain": [
       "<Figure size 432x288 with 1 Axes>"
      ]
     },
     "metadata": {},
     "output_type": "display_data"
    },
    {
     "data": {
      "image/png": "[encoded data removed]",
      "text/plain": [
       "<Figure size 432x288 with 1 Axes>"
      ]
     },
     "metadata": {},
     "output_type": "display_data"
    },
    {
     "data": {
      "image/png": "[encoded data removed]",
      "text/plain": [
       "<Figure size 432x288 with 1 Axes>"
      ]
     },
     "metadata": {},
     "output_type": "display_data"
    },
    {
     "data": {
      "image/png": "[encoded data removed]",
      "text/plain": [
       "<Figure size 432x288 with 1 Axes>"
      ]
     },
     "metadata": {},
     "output_type": "display_data"
    },
    {
     "data": {
      "image/png": "[encoded data removed]",
      "text/plain": [
       "<Figure size 432x288 with 1 Axes>"
      ]
     },
     "metadata": {},
     "output_type": "display_data"
    }
   ],
   "source": [
    "[exp.as_pyplot_figure() for exp in sp_obj.sp_explanations];"
   ]
  },
  {
   "cell_type": "code",
   "execution_count": null,
   "metadata": {},
   "outputs": [],
   "source": []
  }
 ],
 "metadata": {
  "kernelspec": {
   "display_name": "Python 3",
   "language": "python",
   "name": "python3"
  },
  "language_info": {
   "codemirror_mode": {
    "name": "ipython",
    "version": 3
   },
   "file_extension": ".py",
   "mimetype": "text/x-python",
   "name": "python",
   "nbconvert_exporter": "python",
   "pygments_lexer": "ipython3",
   "version": "3.6.5"
  }
 },
 "nbformat": 4,
 "nbformat_minor": 2
}

{
 "cells": [
  {
   "cell_type": "markdown",
   "metadata": {},
   "source": [
    "# SP LIME\n",
    "\n",
    "## Regression explainer with boston housing prices dataset"
   ]
  },
  {
   "cell_type": "code",
   "execution_count": 1,
   "metadata": {},
   "outputs": [
    {
     "name": "stdout",
     "output_type": "stream",
     "text": [
      "Boston House Prices dataset\n",
      "===========================\n",
      "\n",
      "Notes\n",
      "------\n",
      "Data Set Characteristics:  \n",
      "\n",
      "    :Number of Instances: 506 \n",
      "\n",
      "    :Number of Attributes: 13 numeric/categorical predictive\n",
      "    \n",
      "    :Median Value (attribute 14) is usually the target\n",
      "\n",
      "    :Attribute Information (in order):\n",
      "        - CRIM     per capita crime rate by town\n",
      "        - ZN       proportion of residential land zoned for lots over 25,000 sq.ft.\n",
      "        - INDUS    proportion of non-retail business acres per town\n",
      "        - CHAS     Charles River dummy variable (= 1 if tract bounds river; 0 otherwise)\n",
      "        - NOX      nitric oxides concentration (parts per 10 million)\n",
      "        - RM       average number of rooms per dwelling\n",
      "        - AGE      proportion of owner-occupied units built prior to 1940\n",
      "        - DIS      weighted distances to five Boston employment centres\n",
      "        - RAD      index of accessibility to radial highways\n",
      "        - TAX      full-value property-tax rate per $10,000\n",
      "        - PTRATIO  pupil-teacher ratio by town\n",
      "        - B        1000(Bk - 0.63)^2 where Bk is the proportion of blacks by town\n",
      "        - LSTAT    % lower status of the population\n",
      "        - MEDV     Median value of owner-occupied homes in $1000's\n",
      "\n",
      "    :Missing Attribute Values: None\n",
      "\n",
      "    :Creator: Harrison, D. and Rubinfeld, D.L.\n",
      "\n",
      "This is a copy of UCI ML housing dataset.\n",
      "http://archive.ics.uci.edu/ml/datasets/Housing\n",
      "\n",
      "\n",
      "This dataset was taken from the StatLib library which is maintained at Carnegie Mellon University.\n",
      "\n",
      "The Boston house-price data of Harrison, D. and Rubinfeld, D.L. 'Hedonic\n",
      "prices and the demand for clean air', J. Environ. Economics & Management,\n",
      "vol.5, 81-102, 1978.   Used in Belsley, Kuh & Welsch, 'Regression diagnostics\n",
      "...', Wiley, 1980.   N.B. Various transformations are used in the table on\n",
      "pages 244-261 of the latter.\n",
      "\n",
      "The Boston house-price data has been used in many machine learning papers that address regression\n",
      "problems.   \n",
      "     \n",
      "**References**\n",
      "\n",
      "   - Belsley, Kuh & Welsch, 'Regression diagnostics: Identifying Influential Data and Sources of Collinearity', Wiley, 1980. 244-261.\n",
      "   - Quinlan,R. (1993). Combining Instance-Based and Model-Based Learning. In Proceedings on the Tenth International Conference of Machine Learning, 236-243, University of Massachusetts, Amherst. Morgan Kaufmann.\n",
      "   - many more! (see http://archive.ics.uci.edu/ml/datasets/Housing)\n",
      "\n",
      "Random Forest R^2 Score: 0.882\n",
      "Linear Regression R^2 Score: 0.593\n"
     ]
    }
   ],
   "source": [
    "from sklearn.datasets import load_boston\n",
    "import sklearn.ensemble\n",
    "import sklearn.linear_model\n",
    "import sklearn.model_selection\n",
    "import numpy as np\n",
    "from sklearn.metrics import r2_score\n",
    "np.random.seed(1)\n",
    "\n",
    "#load example dataset\n",
    "boston = load_boston()\n",
    "\n",
    "#print a description of the variables\n",
    "print(boston.DESCR)\n",
    "\n",
    "#train a regressor\n",
    "rf = sklearn.ensemble.RandomForestRegressor(n_estimators=1000)\n",
    "train, test, labels_train, labels_test = sklearn.model_selection.train_test_split(boston.data, boston.target, train_size=0.80, test_size=0.20)\n",
    "rf.fit(train, labels_train);\n",
    "\n",
    "#train a linear regressor\n",
    "lr = sklearn.linear_model.LinearRegression()\n",
    "lr.fit(train,labels_train)\n",
    "\n",
    "#print the R^2 score of the random forest\n",
    "print(\"Random Forest R^2 Score: \" +str(round(r2_score(rf.predict(test),labels_test),3)))\n",
    "print(\"Linear Regression R^2 Score: \" +str(round(r2_score(lr.predict(test),labels_test),3)))"
   ]
  },
  {
   "cell_type": "code",
   "execution_count": 2,
   "metadata": {
    "collapsed": true
   },
   "outputs": [],
   "source": [
    "# import lime tools\n",
    "import lime\n",
    "import lime.lime_tabular\n",
    "\n",
    "# generate an \"explainer\" object\n",
    "categorical_features  = np.argwhere(np.array([len(set(boston.data[:,x])) for x in range(boston.data.shape[1])]) <= 10).flatten()\n",
    "explainer = lime.lime_tabular.LimeTabularExplainer(train, feature_names=boston.feature_names, class_names=['price'], categorical_features=categorical_features, verbose=False, mode='regression',discretize_continuous=False)"
   ]
  },
  {
   "cell_type": "code",
   "execution_count": 3,
   "metadata": {
    "collapsed": true
   },
   "outputs": [],
   "source": [
    "#generate an explanation\n",
    "i = 13\n",
    "exp = explainer.explain_instance(test[i], rf.predict, num_features=14)"
   ]
  },
  {
   "cell_type": "code",
   "execution_count": 4,
   "metadata": {},
   "outputs": [
    {
     "data": {
      "image/png": "[encoded data removed]",
      "text/plain": [
       "<matplotlib.figure.Figure at 0x119f74dd0>"
      ]
     },
     "metadata": {},
     "output_type": "display_data"
    }
   ],
   "source": [
    "%matplotlib inline\n",
    "fig = exp.as_pyplot_figure();"
   ]
  },
  {
   "cell_type": "code",
   "execution_count": 5,
   "metadata": {},
   "outputs": [
    {
     "name": "stdout",
     "output_type": "stream",
     "text": [
      "Input feature names: \n",
      "['CRIM' 'ZN' 'INDUS' 'CHAS' 'NOX' 'RM' 'AGE' 'DIS' 'RAD' 'TAX' 'PTRATIO'\n",
      " 'B' 'LSTAT']\n",
      "\n",
      "\n",
      "Input feature values: \n",
      "[  4.37900000e-02   8.00000000e+01   3.37000000e+00   0.00000000e+00\n",
      "   3.98000000e-01   5.78700000e+00   3.11000000e+01   6.61150000e+00\n",
      "   4.00000000e+00   3.37000000e+02   1.61000000e+01   3.96900000e+02\n",
      "   1.02400000e+01]\n",
      "\n",
      "\n",
      "Predicted: \n",
      "20.1622\n"
     ]
    }
   ],
   "source": [
    "print(\"Input feature names: \")\n",
    "print(boston.feature_names)\n",
    "print('\\n')\n",
    "\n",
    "print(\"Input feature values: \")\n",
    "print(test[i])\n",
    "print('\\n')\n",
    "\n",
    "print(\"Predicted: \")\n",
    "print(rf.predict(test)[i])"
   ]
  },
  {
   "cell_type": "markdown",
   "metadata": {},
   "source": [
    "# SP-LIME pick step\n",
    "\n",
    "### Maximize the 'coverage' function:\n",
    "\n",
    "$c(V,W,I) = \\sum_{j=1}^{d^{\\prime}}{\\mathbb{1}_{[\\exists i \\in V : W_{ij}>0]}I_j}$\n",
    "\n",
    "$W = \\text{Explanation Matrix,  } n\\times d^{\\prime}$\n",
    "\n",
    "$V = \\text{Set of chosen explanations}$\n",
    "\n",
    "$I = \\text{Global feature importance vector,   } I_j = \\sqrt{\\sum_i{|W_{ij}|}}$"
   ]
  },
  {
   "cell_type": "code",
   "execution_count": 6,
   "metadata": {
    "collapsed": true
   },
   "outputs": [],
   "source": [
    "import lime"
   ]
  },
  {
   "cell_type": "code",
   "execution_count": 7,
   "metadata": {
    "collapsed": true
   },
   "outputs": [],
   "source": [
    "import warnings\n",
    "from lime import submodular_pick\n",
    "sp_obj = submodular_pick.SubmodularPick(explainer, train, rf.predict, sample_size=20, num_features=14,num_exps_desired=5)"
   ]
  },
  {
   "cell_type": "code",
   "execution_count": 8,
   "metadata": {},
   "outputs": [
    {
     "data": {
      "image/png": "[encoded data removed]",
      "text/plain": [
       "<matplotlib.figure.Figure at 0x114cbdf90>"
      ]
     },
     "metadata": {},
     "output_type": "display_data"
    },
    {
     "data": {
      "image/png": "[encoded data removed]",
      "text/plain": [
       "<matplotlib.figure.Figure at 0x11a41d310>"
      ]
     },
     "metadata": {},
     "output_type": "display_data"
    },
    {
     "data": {
      "image/png": "[encoded data removed]",
      "text/plain": [
       "<matplotlib.figure.Figure at 0x11a5e1410>"
      ]
     },
     "metadata": {},
     "output_type": "display_data"
    },
    {
     "data": {
      "image/png": "[encoded data removed]",
      "text/plain": [
       "<matplotlib.figure.Figure at 0x119031290>"
      ]
     },
     "metadata": {},
     "output_type": "display_data"
    },
    {
     "data": {
      "image/png": "[encoded data removed]",
      "text/plain": [
       "<matplotlib.figure.Figure at 0x11b030890>"
      ]
     },
     "metadata": {},
     "output_type": "display_data"
    }
   ],
   "source": [
    "[exp.as_pyplot_figure() for exp in sp_obj.sp_explanations];"
   ]
  },
  {
   "cell_type": "code",
   "execution_count": 9,
   "metadata": {
    "collapsed": true
   },
   "outputs": [],
   "source": [
    "import pandas as pd\n",
    "W=pd.DataFrame([dict(this.as_list()) for this in sp_obj.explanations])"
   ]
  },
  {
   "cell_type": "code",
   "execution_count": 10,
   "metadata": {},
   "outputs": [
    {
     "data": {
      "text/html": [
       "<div>\n",
       "<style scoped>\n",
       "    .dataframe tbody tr th:only-of-type {\n",
       "        vertical-align: middle;\n",
       "    }\n",
       "\n",
       "    .dataframe tbody tr th {\n",
       "        vertical-align: top;\n",
       "    }\n",
       "\n",
       "    .dataframe thead th {\n",
       "        text-align: right;\n",
       "    }\n",
       "</style>\n",
       "<table border=\"1\" class=\"dataframe\">\n",
       "  <thead>\n",
       "    <tr style=\"text-align: right;\">\n",
       "      <th></th>\n",
       "      <th>AGE</th>\n",
       "      <th>B</th>\n",
       "      <th>CHAS=0</th>\n",
       "      <th>CHAS=1</th>\n",
       "      <th>CRIM</th>\n",
       "      <th>DIS</th>\n",
       "      <th>INDUS</th>\n",
       "      <th>LSTAT</th>\n",
       "      <th>NOX</th>\n",
       "      <th>PTRATIO</th>\n",
       "      <th>RAD=2</th>\n",
       "      <th>RAD=24</th>\n",
       "      <th>RAD=3</th>\n",
       "      <th>RAD=4</th>\n",
       "      <th>RAD=5</th>\n",
       "      <th>RAD=7</th>\n",
       "      <th>RM</th>\n",
       "      <th>TAX</th>\n",
       "      <th>ZN</th>\n",
       "    </tr>\n",
       "  </thead>\n",
       "  <tbody>\n",
       "    <tr>\n",
       "      <th>0</th>\n",
       "      <td>-0.057870</td>\n",
       "      <td>-0.000680</td>\n",
       "      <td>NaN</td>\n",
       "      <td>0.248645</td>\n",
       "      <td>0.096433</td>\n",
       "      <td>-1.688421</td>\n",
       "      <td>-0.192365</td>\n",
       "      <td>-4.941001</td>\n",
       "      <td>-0.352047</td>\n",
       "      <td>-0.324941</td>\n",
       "      <td>NaN</td>\n",
       "      <td>0.065437</td>\n",
       "      <td>NaN</td>\n",
       "      <td>NaN</td>\n",
       "      <td>NaN</td>\n",
       "      <td>NaN</td>\n",
       "      <td>1.695661</td>\n",
       "      <td>-0.123172</td>\n",
       "      <td>-0.039653</td>\n",
       "    </tr>\n",
       "    <tr>\n",
       "      <th>1</th>\n",
       "      <td>-0.123627</td>\n",
       "      <td>0.058122</td>\n",
       "      <td>-0.079254</td>\n",
       "      <td>NaN</td>\n",
       "      <td>0.109252</td>\n",
       "      <td>-1.532825</td>\n",
       "      <td>-0.240987</td>\n",
       "      <td>-4.742649</td>\n",
       "      <td>-0.214497</td>\n",
       "      <td>-0.518830</td>\n",
       "      <td>-0.067654</td>\n",
       "      <td>NaN</td>\n",
       "      <td>NaN</td>\n",
       "      <td>NaN</td>\n",
       "      <td>NaN</td>\n",
       "      <td>NaN</td>\n",
       "      <td>2.035927</td>\n",
       "      <td>-0.323958</td>\n",
       "      <td>0.091031</td>\n",
       "    </tr>\n",
       "    <tr>\n",
       "      <th>2</th>\n",
       "      <td>-0.181614</td>\n",
       "      <td>0.050144</td>\n",
       "      <td>0.051142</td>\n",
       "      <td>NaN</td>\n",
       "      <td>0.021977</td>\n",
       "      <td>-1.458347</td>\n",
       "      <td>-0.115555</td>\n",
       "      <td>-4.993308</td>\n",
       "      <td>-0.500125</td>\n",
       "      <td>-0.317091</td>\n",
       "      <td>NaN</td>\n",
       "      <td>0.132283</td>\n",
       "      <td>NaN</td>\n",
       "      <td>NaN</td>\n",
       "      <td>NaN</td>\n",
       "      <td>NaN</td>\n",
       "      <td>1.391057</td>\n",
       "      <td>-0.145964</td>\n",
       "      <td>0.058307</td>\n",
       "    </tr>\n",
       "    <tr>\n",
       "      <th>3</th>\n",
       "      <td>-0.181754</td>\n",
       "      <td>0.031631</td>\n",
       "      <td>0.031895</td>\n",
       "      <td>NaN</td>\n",
       "      <td>0.233783</td>\n",
       "      <td>-1.145737</td>\n",
       "      <td>-0.120627</td>\n",
       "      <td>-4.401081</td>\n",
       "      <td>-0.180770</td>\n",
       "      <td>-0.414619</td>\n",
       "      <td>NaN</td>\n",
       "      <td>NaN</td>\n",
       "      <td>NaN</td>\n",
       "      <td>0.018298</td>\n",
       "      <td>NaN</td>\n",
       "      <td>NaN</td>\n",
       "      <td>2.040147</td>\n",
       "      <td>-0.292597</td>\n",
       "      <td>-0.032811</td>\n",
       "    </tr>\n",
       "    <tr>\n",
       "      <th>4</th>\n",
       "      <td>-0.116000</td>\n",
       "      <td>0.100807</td>\n",
       "      <td>-0.288901</td>\n",
       "      <td>NaN</td>\n",
       "      <td>0.292766</td>\n",
       "      <td>-1.612013</td>\n",
       "      <td>-0.156357</td>\n",
       "      <td>-4.790155</td>\n",
       "      <td>-0.252993</td>\n",
       "      <td>-0.400579</td>\n",
       "      <td>NaN</td>\n",
       "      <td>NaN</td>\n",
       "      <td>NaN</td>\n",
       "      <td>-0.007299</td>\n",
       "      <td>NaN</td>\n",
       "      <td>NaN</td>\n",
       "      <td>1.940067</td>\n",
       "      <td>-0.359989</td>\n",
       "      <td>0.017763</td>\n",
       "    </tr>\n",
       "  </tbody>\n",
       "</table>\n",
       "</div>"
      ],
      "text/plain": [
       "        AGE         B    CHAS=0    CHAS=1      CRIM       DIS     INDUS  \\\n",
       "0 -0.057870 -0.000680       NaN  0.248645  0.096433 -1.688421 -0.192365   \n",
       "1 -0.123627  0.058122 -0.079254       NaN  0.109252 -1.532825 -0.240987   \n",
       "2 -0.181614  0.050144  0.051142       NaN  0.021977 -1.458347 -0.115555   \n",
       "3 -0.181754  0.031631  0.031895       NaN  0.233783 -1.145737 -0.120627   \n",
       "4 -0.116000  0.100807 -0.288901       NaN  0.292766 -1.612013 -0.156357   \n",
       "\n",
       "      LSTAT       NOX   PTRATIO     RAD=2    RAD=24  RAD=3     RAD=4  RAD=5  \\\n",
       "0 -4.941001 -0.352047 -0.324941       NaN  0.065437    NaN       NaN    NaN   \n",
       "1 -4.742649 -0.214497 -0.518830 -0.067654       NaN    NaN       NaN    NaN   \n",
       "2 -4.993308 -0.500125 -0.317091       NaN  0.132283    NaN       NaN    NaN   \n",
       "3 -4.401081 -0.180770 -0.414619       NaN       NaN    NaN  0.018298    NaN   \n",
       "4 -4.790155 -0.252993 -0.400579       NaN       NaN    NaN -0.007299    NaN   \n",
       "\n",
       "   RAD=7        RM       TAX        ZN  \n",
       "0    NaN  1.695661 -0.123172 -0.039653  \n",
       "1    NaN  2.035927 -0.323958  0.091031  \n",
       "2    NaN  1.391057 -0.145964  0.058307  \n",
       "3    NaN  2.040147 -0.292597 -0.032811  \n",
       "4    NaN  1.940067 -0.359989  0.017763  "
      ]
     },
     "execution_count": 10,
     "metadata": {},
     "output_type": "execute_result"
    }
   ],
   "source": [
    "W.head()"
   ]
  },
  {
   "cell_type": "code",
   "execution_count": 11,
   "metadata": {
    "scrolled": true
   },
   "outputs": [
    {
     "data": {
      "image/png": "[encoded data removed]",
      "text/plain": [
       "<matplotlib.figure.Figure at 0x11cfd1850>"
      ]
     },
     "metadata": {},
     "output_type": "display_data"
    }
   ],
   "source": [
    "im=W.hist('NOX',bins=20)"
   ]
  },
  {
   "cell_type": "markdown",
   "metadata": {},
   "source": [
    "## Text explainer using the newsgroups"
   ]
  },
  {
   "cell_type": "code",
   "execution_count": 12,
   "metadata": {},
   "outputs": [
    {
     "name": "stdout",
     "output_type": "stream",
     "text": [
      "Document id: 83\n",
      "Probability(christian) = 0.444\n",
      "True class: atheism\n"
     ]
    }
   ],
   "source": [
    "# run the text explainer example notebook, up to single explanation\n",
    "import sklearn\n",
    "import numpy as np\n",
    "import sklearn\n",
    "import sklearn.ensemble\n",
    "import sklearn.metrics\n",
    "from __future__ import print_function\n",
    "\n",
    "from sklearn.datasets import fetch_20newsgroups\n",
    "categories = ['alt.atheism', 'soc.religion.christian']\n",
    "newsgroups_train = fetch_20newsgroups(subset='train', categories=categories)\n",
    "newsgroups_test = fetch_20newsgroups(subset='test', categories=categories)\n",
    "class_names = ['atheism', 'christian']\n",
    "\n",
    "vectorizer = sklearn.feature_extraction.text.TfidfVectorizer(lowercase=False)\n",
    "train_vectors = vectorizer.fit_transform(newsgroups_train.data)\n",
    "test_vectors = vectorizer.transform(newsgroups_test.data)\n",
    "\n",
    "rf = sklearn.ensemble.RandomForestClassifier(n_estimators=500)\n",
    "rf.fit(train_vectors, newsgroups_train.target)\n",
    "\n",
    "pred = rf.predict(test_vectors)\n",
    "sklearn.metrics.f1_score(newsgroups_test.target, pred, average='binary')\n",
    "\n",
    "from lime import lime_text\n",
    "from sklearn.pipeline import make_pipeline\n",
    "c = make_pipeline(vectorizer, rf)\n",
    "\n",
    "from lime.lime_text import LimeTextExplainer\n",
    "explainer = LimeTextExplainer(class_names=class_names)\n",
    "\n",
    "idx = 83\n",
    "exp = explainer.explain_instance(newsgroups_test.data[idx], c.predict_proba, num_features=6)\n",
    "print('Document id: %d' % idx)\n",
    "print('Probability(christian) =', c.predict_proba([newsgroups_test.data[idx]])[0,1])\n",
    "print('True class: %s' % class_names[newsgroups_test.target[idx]])"
   ]
  },
  {
   "cell_type": "code",
   "execution_count": 13,
   "metadata": {
    "collapsed": true
   },
   "outputs": [],
   "source": [
    "sp_obj = submodular_pick.SubmodularPick(explainer, newsgroups_test.data, c.predict_proba, sample_size=2, num_features=6,num_exps_desired=2,top_labels=3)"
   ]
  },
  {
   "cell_type": "code",
   "execution_count": 14,
   "metadata": {},
   "outputs": [
    {
     "data": {
      "image/png": "[encoded data removed]",
      "text/plain": [
       "<matplotlib.figure.Figure at 0x11b08f990>"
      ]
     },
     "metadata": {},
     "output_type": "display_data"
    },
    {
     "data": {
      "image/png": "[encoded data removed]",
      "text/plain": [
       "<matplotlib.figure.Figure at 0x11b125250>"
      ]
     },
     "metadata": {},
     "output_type": "display_data"
    }
   ],
   "source": [
    "[exp.as_pyplot_figure(label=0) for exp in sp_obj.sp_explanations];"
   ]
  },
  {
   "cell_type": "code",
   "execution_count": 15,
   "metadata": {
    "scrolled": true
   },
   "outputs": [
    {
     "data": {
      "image/png": "[encoded data removed]",
      "text/plain": [
       "<matplotlib.figure.Figure at 0x11afb0890>"
      ]
     },
     "metadata": {},
     "output_type": "display_data"
    },
    {
     "data": {
      "image/png": "[encoded data removed]",
      "text/plain": [
       "<matplotlib.figure.Figure at 0x11a02d950>"
      ]
     },
     "metadata": {},
     "output_type": "display_data"
    }
   ],
   "source": [
    "[exp.as_pyplot_figure(label=1) for exp in sp_obj.sp_explanations];"
   ]
  },
  {
   "cell_type": "code",
   "execution_count": 16,
   "metadata": {},
   "outputs": [
    {
     "data": {
      "text/plain": [
       "0.83333333333333337"
      ]
     },
     "execution_count": 16,
     "metadata": {},
     "output_type": "execute_result"
    }
   ],
   "source": [
    "from sklearn.datasets import load_iris\n",
    "iris=load_iris()\n",
    "from sklearn.model_selection import train_test_split as tts\n",
    "Xtrain,Xtest,ytrain,ytest=tts(iris.data,iris.target,test_size=.2)\n",
    "from sklearn.ensemble import RandomForestClassifier\n",
    "rf=RandomForestClassifier()\n",
    "rf.fit(Xtrain,ytrain)\n",
    "rf.score(Xtest,ytest)"
   ]
  },
  {
   "cell_type": "code",
   "execution_count": 17,
   "metadata": {
    "collapsed": true
   },
   "outputs": [],
   "source": [
    "explainer = lime.lime_tabular.LimeTabularExplainer(Xtrain, \n",
    "                                                   feature_names=iris.feature_names,\n",
    "                                                   class_names=iris.target_names, \n",
    "                                                   verbose=False, \n",
    "                                                   mode='classification',\n",
    "                                                   discretize_continuous=False)"
   ]
  },
  {
   "cell_type": "code",
   "execution_count": 18,
   "metadata": {},
   "outputs": [
    {
     "data": {
      "text/plain": [
       "[1, 2, 0]"
      ]
     },
     "execution_count": 18,
     "metadata": {},
     "output_type": "execute_result"
    }
   ],
   "source": [
    "exp=explainer.explain_instance(Xtrain[i],rf.predict_proba,top_labels=3)\n",
    "exp.available_labels()"
   ]
  },
  {
   "cell_type": "code",
   "execution_count": 19,
   "metadata": {
    "collapsed": true
   },
   "outputs": [],
   "source": [
    "sp_obj = submodular_pick.SubmodularPick(data=Xtrain,explainer=explainer,num_exps_desired=5,predict_fn=rf.predict_proba, sample_size=20, top_labels=3, num_features=4)"
   ]
  },
  {
   "cell_type": "code",
   "execution_count": 20,
   "metadata": {},
   "outputs": [
    {
     "data": {
      "text/html": [
       "<div>\n",
       "<style scoped>\n",
       "    .dataframe tbody tr th:only-of-type {\n",
       "        vertical-align: middle;\n",
       "    }\n",
       "\n",
       "    .dataframe tbody tr th {\n",
       "        vertical-align: top;\n",
       "    }\n",
       "\n",
       "    .dataframe thead th {\n",
       "        text-align: right;\n",
       "    }\n",
       "</style>\n",
       "<table border=\"1\" class=\"dataframe\">\n",
       "  <thead>\n",
       "    <tr style=\"text-align: right;\">\n",
       "      <th></th>\n",
       "      <th>exp number</th>\n",
       "      <th>petal length (cm)</th>\n",
       "      <th>petal width (cm)</th>\n",
       "      <th>sepal length (cm)</th>\n",
       "      <th>sepal width (cm)</th>\n",
       "    </tr>\n",
       "  </thead>\n",
       "  <tbody>\n",
       "    <tr>\n",
       "      <th>setosa</th>\n",
       "      <td>0</td>\n",
       "      <td>-0.082228</td>\n",
       "      <td>-0.236923</td>\n",
       "      <td>-0.032294</td>\n",
       "      <td>0.012060</td>\n",
       "    </tr>\n",
       "    <tr>\n",
       "      <th>setosa</th>\n",
       "      <td>1</td>\n",
       "      <td>-0.090088</td>\n",
       "      <td>-0.260716</td>\n",
       "      <td>-0.025831</td>\n",
       "      <td>0.012220</td>\n",
       "    </tr>\n",
       "    <tr>\n",
       "      <th>setosa</th>\n",
       "      <td>2</td>\n",
       "      <td>-0.061403</td>\n",
       "      <td>-0.203016</td>\n",
       "      <td>-0.032648</td>\n",
       "      <td>0.008165</td>\n",
       "    </tr>\n",
       "    <tr>\n",
       "      <th>setosa</th>\n",
       "      <td>3</td>\n",
       "      <td>-0.115855</td>\n",
       "      <td>-0.326017</td>\n",
       "      <td>-0.043795</td>\n",
       "      <td>0.021527</td>\n",
       "    </tr>\n",
       "    <tr>\n",
       "      <th>setosa</th>\n",
       "      <td>4</td>\n",
       "      <td>-0.108132</td>\n",
       "      <td>-0.319248</td>\n",
       "      <td>-0.043905</td>\n",
       "      <td>0.014563</td>\n",
       "    </tr>\n",
       "    <tr>\n",
       "      <th>versicolor</th>\n",
       "      <td>0</td>\n",
       "      <td>-0.180320</td>\n",
       "      <td>0.074353</td>\n",
       "      <td>0.047606</td>\n",
       "      <td>-0.000603</td>\n",
       "    </tr>\n",
       "    <tr>\n",
       "      <th>versicolor</th>\n",
       "      <td>1</td>\n",
       "      <td>-0.130953</td>\n",
       "      <td>0.108325</td>\n",
       "      <td>0.049563</td>\n",
       "      <td>-0.012690</td>\n",
       "    </tr>\n",
       "    <tr>\n",
       "      <th>versicolor</th>\n",
       "      <td>2</td>\n",
       "      <td>-0.224952</td>\n",
       "      <td>0.035047</td>\n",
       "      <td>0.027544</td>\n",
       "      <td>-0.009744</td>\n",
       "    </tr>\n",
       "    <tr>\n",
       "      <th>versicolor</th>\n",
       "      <td>3</td>\n",
       "      <td>-0.009624</td>\n",
       "      <td>0.215826</td>\n",
       "      <td>0.085704</td>\n",
       "      <td>-0.021219</td>\n",
       "    </tr>\n",
       "    <tr>\n",
       "      <th>versicolor</th>\n",
       "      <td>4</td>\n",
       "      <td>-0.032447</td>\n",
       "      <td>0.207419</td>\n",
       "      <td>0.082044</td>\n",
       "      <td>-0.020580</td>\n",
       "    </tr>\n",
       "    <tr>\n",
       "      <th>virginica</th>\n",
       "      <td>0</td>\n",
       "      <td>0.262549</td>\n",
       "      <td>0.162570</td>\n",
       "      <td>-0.015312</td>\n",
       "      <td>-0.011457</td>\n",
       "    </tr>\n",
       "    <tr>\n",
       "      <th>virginica</th>\n",
       "      <td>1</td>\n",
       "      <td>0.221041</td>\n",
       "      <td>0.152391</td>\n",
       "      <td>-0.023731</td>\n",
       "      <td>0.000470</td>\n",
       "    </tr>\n",
       "    <tr>\n",
       "      <th>virginica</th>\n",
       "      <td>2</td>\n",
       "      <td>0.286355</td>\n",
       "      <td>0.167969</td>\n",
       "      <td>0.005104</td>\n",
       "      <td>0.001579</td>\n",
       "    </tr>\n",
       "    <tr>\n",
       "      <th>virginica</th>\n",
       "      <td>3</td>\n",
       "      <td>0.125479</td>\n",
       "      <td>0.110191</td>\n",
       "      <td>-0.041909</td>\n",
       "      <td>-0.000308</td>\n",
       "    </tr>\n",
       "    <tr>\n",
       "      <th>virginica</th>\n",
       "      <td>4</td>\n",
       "      <td>0.140578</td>\n",
       "      <td>0.111829</td>\n",
       "      <td>-0.038139</td>\n",
       "      <td>0.006017</td>\n",
       "    </tr>\n",
       "  </tbody>\n",
       "</table>\n",
       "</div>"
      ],
      "text/plain": [
       "            exp number  petal length (cm)  petal width (cm)  \\\n",
       "setosa               0          -0.082228         -0.236923   \n",
       "setosa               1          -0.090088         -0.260716   \n",
       "setosa               2          -0.061403         -0.203016   \n",
       "setosa               3          -0.115855         -0.326017   \n",
       "setosa               4          -0.108132         -0.319248   \n",
       "versicolor           0          -0.180320          0.074353   \n",
       "versicolor           1          -0.130953          0.108325   \n",
       "versicolor           2          -0.224952          0.035047   \n",
       "versicolor           3          -0.009624          0.215826   \n",
       "versicolor           4          -0.032447          0.207419   \n",
       "virginica            0           0.262549          0.162570   \n",
       "virginica            1           0.221041          0.152391   \n",
       "virginica            2           0.286355          0.167969   \n",
       "virginica            3           0.125479          0.110191   \n",
       "virginica            4           0.140578          0.111829   \n",
       "\n",
       "            sepal length (cm)  sepal width (cm)  \n",
       "setosa              -0.032294          0.012060  \n",
       "setosa              -0.025831          0.012220  \n",
       "setosa              -0.032648          0.008165  \n",
       "setosa              -0.043795          0.021527  \n",
       "setosa              -0.043905          0.014563  \n",
       "versicolor           0.047606         -0.000603  \n",
       "versicolor           0.049563         -0.012690  \n",
       "versicolor           0.027544         -0.009744  \n",
       "versicolor           0.085704         -0.021219  \n",
       "versicolor           0.082044         -0.020580  \n",
       "virginica           -0.015312         -0.011457  \n",
       "virginica           -0.023731          0.000470  \n",
       "virginica            0.005104          0.001579  \n",
       "virginica           -0.041909         -0.000308  \n",
       "virginica           -0.038139          0.006017  "
      ]
     },
     "execution_count": 20,
     "metadata": {},
     "output_type": "execute_result"
    }
   ],
   "source": [
    "import pandas as pd\n",
    "df=pd.DataFrame({})\n",
    "for this_label in range(3):\n",
    "    dfl=[]\n",
    "    for i,exp in enumerate(sp_obj.sp_explanations):\n",
    "        l=exp.as_list(label=this_label)\n",
    "        l.append((\"exp number\",i))\n",
    "        dfl.append(dict(l))\n",
    "    dftest=pd.DataFrame(dfl)\n",
    "    df=df.append(pd.DataFrame(dfl,index=[iris.target_names[this_label] for i in range(len(sp_obj.sp_explanations))]))\n",
    "df"
   ]
  },
  {
   "cell_type": "code",
   "execution_count": null,
   "metadata": {
    "collapsed": true
   },
   "outputs": [],
   "source": []
  }
 ],
 "metadata": {
  "anaconda-cloud": {},
  "kernelspec": {
   "display_name": "Python 2",
   "language": "python",
   "name": "python2"
  },
  "language_info": {
   "codemirror_mode": {
    "name": "ipython",
    "version": 2
   },
   "file_extension": ".py",
   "mimetype": "text/x-python",
   "name": "python",
   "nbconvert_exporter": "python",
   "pygments_lexer": "ipython2",
   "version": "2.7.3"
  }
 },
 "nbformat": 4,
 "nbformat_minor": 2
}
